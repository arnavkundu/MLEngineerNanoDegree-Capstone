{
 "cells": [
  {
   "cell_type": "markdown",
   "metadata": {},
   "source": [
    "# Automated ML\n",
    "\n",
    "TODO: Import Dependencies. In the cell below, import all the dependencies that you will need to complete the project."
   ]
  },
  {
   "cell_type": "code",
   "execution_count": 1,
   "metadata": {
    "gather": {
     "logged": 1636285273507
    },
    "jupyter": {
     "outputs_hidden": false,
     "source_hidden": false
    },
    "nteract": {
     "transient": {
      "deleting": false
     }
    }
   },
   "outputs": [
    {
     "name": "stdout",
     "output_type": "stream",
     "text": [
      "SDK version: 1.34.0\n"
     ]
    }
   ],
   "source": [
    "import logging\n",
    "import os\n",
    "import csv\n",
    "\n",
    "from matplotlib import pyplot as plt\n",
    "import numpy as np\n",
    "import pandas as pd\n",
    "from sklearn import datasets\n",
    "import pkg_resources\n",
    "\n",
    "import azureml.core\n",
    "from azureml.core.experiment import Experiment\n",
    "from azureml.core.workspace import Workspace\n",
    "from azureml.train.automl import AutoMLConfig\n",
    "from azureml.core.dataset import Dataset\n",
    "\n",
    "from azureml.pipeline.steps import AutoMLStep\n",
    "\n",
    "# Check core SDK version number\n",
    "print(\"SDK version:\", azureml.core.VERSION)"
   ]
  },
  {
   "cell_type": "markdown",
   "metadata": {},
   "source": [
    "## Dataset\n",
    "\n",
    "### Overview\n",
    "TODO: In this markdown cell, give an overview of the dataset you are using. Also mention the task you will be performing.\n",
    "\n",
    "\n",
    "TODO: Get data. In the cell below, write code to access the data you will be using in this project. Remember that the dataset needs to be external."
   ]
  },
  {
   "cell_type": "code",
   "execution_count": 2,
   "metadata": {
    "gather": {
     "logged": 1636285276620
    },
    "jupyter": {
     "outputs_hidden": false,
     "source_hidden": false
    },
    "nteract": {
     "transient": {
      "deleting": false
     }
    }
   },
   "outputs": [
    {
     "data": {
      "text/html": [
       "<table style=\"width:100%\"><tr><th>Name</th><th>Workspace</th><th>Report Page</th><th>Docs Page</th></tr><tr><td>coupon-reco-automl</td><td>quick-starts-ws-162940</td><td><a href=\"https://ml.azure.com/experiments/id/2ddca425-2990-4b1e-911f-1646d3aadf59?wsid=/subscriptions/9a7511b8-150f-4a58-8528-3e7d50216c31/resourcegroups/aml-quickstarts-162940/workspaces/quick-starts-ws-162940&amp;tid=660b3398-b80e-49d2-bc5b-ac1dc93b5254\" target=\"_blank\" rel=\"noopener\">Link to Azure Machine Learning studio</a></td><td><a href=\"https://docs.microsoft.com/en-us/python/api/azureml-core/azureml.core.experiment.Experiment?view=azure-ml-py\" target=\"_blank\" rel=\"noopener\">Link to Documentation</a></td></tr></table>"
      ],
      "text/plain": [
       "Experiment(Name: coupon-reco-automl,\n",
       "Workspace: quick-starts-ws-162940)"
      ]
     },
     "execution_count": 2,
     "metadata": {},
     "output_type": "execute_result"
    }
   ],
   "source": [
    "ws = Workspace.from_config()\n",
    "\n",
    "# choose a name for experiment\n",
    "experiment_name = 'coupon-reco-automl'\n",
    "project_folder = './coupon-reco-proj-automl'\n",
    "\n",
    "experiment=Experiment(ws, experiment_name)\n",
    "experiment"
   ]
  },
  {
   "cell_type": "code",
   "execution_count": 4,
   "metadata": {
    "gather": {
     "logged": 1636285325169
    }
   },
   "outputs": [
    {
     "name": "stdout",
     "output_type": "stream",
     "text": [
      "Found existing cluster, use it.\n",
      "Succeeded\n",
      "AmlCompute wait for completion finished\n",
      "\n",
      "Minimum number of nodes requested have been provisioned\n"
     ]
    }
   ],
   "source": [
    "from azureml.core.compute import AmlCompute\n",
    "from azureml.core.compute import ComputeTarget\n",
    "from azureml.core.compute_target import ComputeTargetException\n",
    "\n",
    "# NOTE: update the cluster name to match the existing cluster\n",
    "# Choose a name for your CPU cluster\n",
    "amlcompute_cluster_name = \"cc-sta-ds12-2\"\n",
    "\n",
    "# Verify that cluster does not exist already\n",
    "try:\n",
    "    compute_target = ComputeTarget(workspace=ws, name=amlcompute_cluster_name)\n",
    "    print('Found existing cluster, use it.')\n",
    "except ComputeTargetException:\n",
    "    compute_config = AmlCompute.provisioning_configuration(vm_size='STANDARD_DS12_V2',\n",
    "                                                           min_nodes=1,\n",
    "                                                           max_nodes=10)\n",
    "    compute_target = ComputeTarget.create(ws, amlcompute_cluster_name, compute_config)\n",
    "\n",
    "compute_target.wait_for_completion(show_output=True, min_node_count = 1, timeout_in_minutes = 10)\n",
    "# For a more detailed view of current AmlCompute status, use get_status()."
   ]
  },
  {
   "cell_type": "code",
   "execution_count": 5,
   "metadata": {
    "gather": {
     "logged": 1636285349128
    }
   },
   "outputs": [
    {
     "data": {
      "text/html": [
       "<div>\n",
       "<style scoped>\n",
       "    .dataframe tbody tr th:only-of-type {\n",
       "        vertical-align: middle;\n",
       "    }\n",
       "\n",
       "    .dataframe tbody tr th {\n",
       "        vertical-align: top;\n",
       "    }\n",
       "\n",
       "    .dataframe thead th {\n",
       "        text-align: right;\n",
       "    }\n",
       "</style>\n",
       "<table border=\"1\" class=\"dataframe\">\n",
       "  <thead>\n",
       "    <tr style=\"text-align: right;\">\n",
       "      <th></th>\n",
       "      <th>destination</th>\n",
       "      <th>passanger</th>\n",
       "      <th>weather</th>\n",
       "      <th>temperature</th>\n",
       "      <th>time</th>\n",
       "      <th>coupon</th>\n",
       "      <th>expiration</th>\n",
       "      <th>gender</th>\n",
       "      <th>age</th>\n",
       "      <th>maritalStatus</th>\n",
       "      <th>...</th>\n",
       "      <th>CoffeeHouse</th>\n",
       "      <th>CarryAway</th>\n",
       "      <th>RestaurantLessThan20</th>\n",
       "      <th>Restaurant20To50</th>\n",
       "      <th>toCoupon_GEQ5min</th>\n",
       "      <th>toCoupon_GEQ15min</th>\n",
       "      <th>toCoupon_GEQ25min</th>\n",
       "      <th>direction_same</th>\n",
       "      <th>direction_opp</th>\n",
       "      <th>Y</th>\n",
       "    </tr>\n",
       "  </thead>\n",
       "  <tbody>\n",
       "    <tr>\n",
       "      <th>0</th>\n",
       "      <td>No Urgent Place</td>\n",
       "      <td>Alone</td>\n",
       "      <td>Sunny</td>\n",
       "      <td>55</td>\n",
       "      <td>2PM</td>\n",
       "      <td>Restaurant(&lt;20)</td>\n",
       "      <td>1d</td>\n",
       "      <td>Female</td>\n",
       "      <td>21.0</td>\n",
       "      <td>Unmarried partner</td>\n",
       "      <td>...</td>\n",
       "      <td>never</td>\n",
       "      <td>None</td>\n",
       "      <td>4~8</td>\n",
       "      <td>1~3</td>\n",
       "      <td>1</td>\n",
       "      <td>0</td>\n",
       "      <td>0</td>\n",
       "      <td>0</td>\n",
       "      <td>1</td>\n",
       "      <td>1</td>\n",
       "    </tr>\n",
       "    <tr>\n",
       "      <th>1</th>\n",
       "      <td>No Urgent Place</td>\n",
       "      <td>Friend(s)</td>\n",
       "      <td>Sunny</td>\n",
       "      <td>80</td>\n",
       "      <td>10AM</td>\n",
       "      <td>Coffee House</td>\n",
       "      <td>2h</td>\n",
       "      <td>Female</td>\n",
       "      <td>21.0</td>\n",
       "      <td>Unmarried partner</td>\n",
       "      <td>...</td>\n",
       "      <td>never</td>\n",
       "      <td>None</td>\n",
       "      <td>4~8</td>\n",
       "      <td>1~3</td>\n",
       "      <td>1</td>\n",
       "      <td>0</td>\n",
       "      <td>0</td>\n",
       "      <td>0</td>\n",
       "      <td>1</td>\n",
       "      <td>0</td>\n",
       "    </tr>\n",
       "    <tr>\n",
       "      <th>2</th>\n",
       "      <td>No Urgent Place</td>\n",
       "      <td>Friend(s)</td>\n",
       "      <td>Sunny</td>\n",
       "      <td>80</td>\n",
       "      <td>10AM</td>\n",
       "      <td>Carry out &amp; Take away</td>\n",
       "      <td>2h</td>\n",
       "      <td>Female</td>\n",
       "      <td>21.0</td>\n",
       "      <td>Unmarried partner</td>\n",
       "      <td>...</td>\n",
       "      <td>never</td>\n",
       "      <td>None</td>\n",
       "      <td>4~8</td>\n",
       "      <td>1~3</td>\n",
       "      <td>1</td>\n",
       "      <td>1</td>\n",
       "      <td>0</td>\n",
       "      <td>0</td>\n",
       "      <td>1</td>\n",
       "      <td>1</td>\n",
       "    </tr>\n",
       "    <tr>\n",
       "      <th>3</th>\n",
       "      <td>No Urgent Place</td>\n",
       "      <td>Friend(s)</td>\n",
       "      <td>Sunny</td>\n",
       "      <td>80</td>\n",
       "      <td>2PM</td>\n",
       "      <td>Coffee House</td>\n",
       "      <td>2h</td>\n",
       "      <td>Female</td>\n",
       "      <td>21.0</td>\n",
       "      <td>Unmarried partner</td>\n",
       "      <td>...</td>\n",
       "      <td>never</td>\n",
       "      <td>None</td>\n",
       "      <td>4~8</td>\n",
       "      <td>1~3</td>\n",
       "      <td>1</td>\n",
       "      <td>1</td>\n",
       "      <td>0</td>\n",
       "      <td>0</td>\n",
       "      <td>1</td>\n",
       "      <td>0</td>\n",
       "    </tr>\n",
       "    <tr>\n",
       "      <th>4</th>\n",
       "      <td>No Urgent Place</td>\n",
       "      <td>Friend(s)</td>\n",
       "      <td>Sunny</td>\n",
       "      <td>80</td>\n",
       "      <td>2PM</td>\n",
       "      <td>Coffee House</td>\n",
       "      <td>1d</td>\n",
       "      <td>Female</td>\n",
       "      <td>21.0</td>\n",
       "      <td>Unmarried partner</td>\n",
       "      <td>...</td>\n",
       "      <td>never</td>\n",
       "      <td>None</td>\n",
       "      <td>4~8</td>\n",
       "      <td>1~3</td>\n",
       "      <td>1</td>\n",
       "      <td>1</td>\n",
       "      <td>0</td>\n",
       "      <td>0</td>\n",
       "      <td>1</td>\n",
       "      <td>0</td>\n",
       "    </tr>\n",
       "  </tbody>\n",
       "</table>\n",
       "<p>5 rows × 26 columns</p>\n",
       "</div>"
      ],
      "text/plain": [
       "       destination  passanger weather  temperature  time  \\\n",
       "0  No Urgent Place      Alone   Sunny           55   2PM   \n",
       "1  No Urgent Place  Friend(s)   Sunny           80  10AM   \n",
       "2  No Urgent Place  Friend(s)   Sunny           80  10AM   \n",
       "3  No Urgent Place  Friend(s)   Sunny           80   2PM   \n",
       "4  No Urgent Place  Friend(s)   Sunny           80   2PM   \n",
       "\n",
       "                  coupon expiration  gender   age      maritalStatus  ...  \\\n",
       "0        Restaurant(<20)         1d  Female  21.0  Unmarried partner  ...   \n",
       "1           Coffee House         2h  Female  21.0  Unmarried partner  ...   \n",
       "2  Carry out & Take away         2h  Female  21.0  Unmarried partner  ...   \n",
       "3           Coffee House         2h  Female  21.0  Unmarried partner  ...   \n",
       "4           Coffee House         1d  Female  21.0  Unmarried partner  ...   \n",
       "\n",
       "   CoffeeHouse CarryAway RestaurantLessThan20 Restaurant20To50  \\\n",
       "0        never      None                  4~8              1~3   \n",
       "1        never      None                  4~8              1~3   \n",
       "2        never      None                  4~8              1~3   \n",
       "3        never      None                  4~8              1~3   \n",
       "4        never      None                  4~8              1~3   \n",
       "\n",
       "  toCoupon_GEQ5min toCoupon_GEQ15min toCoupon_GEQ25min direction_same  \\\n",
       "0                1                 0                 0              0   \n",
       "1                1                 0                 0              0   \n",
       "2                1                 1                 0              0   \n",
       "3                1                 1                 0              0   \n",
       "4                1                 1                 0              0   \n",
       "\n",
       "  direction_opp  Y  \n",
       "0             1  1  \n",
       "1             1  0  \n",
       "2             1  1  \n",
       "3             1  0  \n",
       "4             1  0  \n",
       "\n",
       "[5 rows x 26 columns]"
      ]
     },
     "execution_count": 5,
     "metadata": {},
     "output_type": "execute_result"
    }
   ],
   "source": [
    "# NOTE: update the key to match the dataset name\n",
    "found = False\n",
    "key = \"in-vehicle-coupon-reco\"\n",
    "description_text = \"In-vehicle coupon recommendation Data Set\"\n",
    "\n",
    "if key in ws.datasets.keys(): \n",
    "        found = True\n",
    "        dataset = ws.datasets[key] \n",
    "\n",
    "if not found:\n",
    "        # Create AML Dataset and register it into Workspace\n",
    "        example_data = 'https://archive.ics.uci.edu/ml/machine-learning-databases/00603/in-vehicle-coupon-recommendation.csv'\n",
    "        dataset = Dataset.Tabular.from_delimited_files(example_data)        \n",
    "        #Register Dataset in Workspace\n",
    "        dataset = dataset.register(workspace=ws,\n",
    "                                   name=key,\n",
    "                                   description=description_text)\n",
    "\n",
    "\n",
    "df = dataset.to_pandas_dataframe()\n",
    "df.head()"
   ]
  },
  {
   "cell_type": "markdown",
   "metadata": {},
   "source": [
    "## AutoML Configuration\n",
    "\n",
    "TODO: Explain why you chose the automl settings and cofiguration you used below."
   ]
  },
  {
   "cell_type": "code",
   "execution_count": 6,
   "metadata": {
    "gather": {
     "logged": 1636285364244
    },
    "jupyter": {
     "outputs_hidden": false,
     "source_hidden": false
    },
    "nteract": {
     "transient": {
      "deleting": false
     }
    }
   },
   "outputs": [],
   "source": [
    "# TODO: Put your automl settings here\n",
    "# Performing EDA, we see that the class is balanced one.\n",
    "\n",
    "automl_settings = {\n",
    "    \"experiment_timeout_minutes\": 60,\n",
    "    \"max_concurrent_iterations\": 5,\n",
    "    \"primary_metric\" : 'accuracy',\n",
    "    'model_explainability': True\n",
    "}\n",
    "\n",
    "# TODO: Put your automl config here\n",
    "automl_config = AutoMLConfig(compute_target=compute_target,\n",
    "                             task = \"classification\",\n",
    "                             training_data=dataset,\n",
    "                             label_column_name=\"Y\",   \n",
    "                             path = project_folder,\n",
    "                             enable_early_stopping= True,\n",
    "                             featurization= 'auto',\n",
    "                             debug_log = \"automl_errors.log\",\n",
    "                             **automl_settings\n",
    "                            )"
   ]
  },
  {
   "cell_type": "code",
   "execution_count": 7,
   "metadata": {
    "gather": {
     "logged": 1636285377046
    },
    "jupyter": {
     "outputs_hidden": false,
     "source_hidden": false
    },
    "nteract": {
     "transient": {
      "deleting": false
     }
    }
   },
   "outputs": [
    {
     "name": "stdout",
     "output_type": "stream",
     "text": [
      "Submitting remote run.\n"
     ]
    },
    {
     "data": {
      "text/html": [
       "<table style=\"width:100%\"><tr><th>Experiment</th><th>Id</th><th>Type</th><th>Status</th><th>Details Page</th><th>Docs Page</th></tr><tr><td>coupon-reco-automl</td><td>AutoML_e21e1292-fbc5-4445-8213-bd4c24dd2fdf</td><td>automl</td><td>NotStarted</td><td><a href=\"https://ml.azure.com/runs/AutoML_e21e1292-fbc5-4445-8213-bd4c24dd2fdf?wsid=/subscriptions/9a7511b8-150f-4a58-8528-3e7d50216c31/resourcegroups/aml-quickstarts-162940/workspaces/quick-starts-ws-162940&amp;tid=660b3398-b80e-49d2-bc5b-ac1dc93b5254\" target=\"_blank\" rel=\"noopener\">Link to Azure Machine Learning studio</a></td><td><a href=\"https://docs.microsoft.com/en-us/python/api/overview/azure/ml/intro?view=azure-ml-py\" target=\"_blank\" rel=\"noopener\">Link to Documentation</a></td></tr></table>"
      ],
      "text/plain": [
       "<IPython.core.display.HTML object>"
      ]
     },
     "metadata": {},
     "output_type": "display_data"
    }
   ],
   "source": [
    "# TODO: Submit your experiment\n",
    "remote_run = experiment.submit(automl_config)"
   ]
  },
  {
   "cell_type": "markdown",
   "metadata": {},
   "source": [
    "## Run Details\n",
    "\n",
    "OPTIONAL: Write about the different models trained and their performance. Why do you think some models did better than others?\n",
    "\n",
    "TODO: In the cell below, use the `RunDetails` widget to show the different experiments."
   ]
  },
  {
   "cell_type": "code",
   "execution_count": 9,
   "metadata": {
    "gather": {
     "logged": 1636286498005
    },
    "jupyter": {
     "outputs_hidden": false,
     "source_hidden": false
    },
    "nteract": {
     "transient": {
      "deleting": false
     }
    }
   },
   "outputs": [
    {
     "data": {
      "application/vnd.jupyter.widget-view+json": {
       "model_id": "1958f79f30364226a4ac1265422ec004",
       "version_major": 2,
       "version_minor": 0
      },
      "text/plain": [
       "_AutoMLWidget(widget_settings={'childWidgetDisplay': 'popup', 'send_telemetry': False, 'log_level': 'INFO', 's…"
      ]
     },
     "metadata": {},
     "output_type": "display_data"
    },
    {
     "data": {
      "application/aml.mini.widget.v1": "{\"status\": \"Completed\", \"workbench_run_details_uri\": \"https://ml.azure.com/runs/AutoML_e21e1292-fbc5-4445-8213-bd4c24dd2fdf?wsid=/subscriptions/9a7511b8-150f-4a58-8528-3e7d50216c31/resourcegroups/aml-quickstarts-162940/workspaces/quick-starts-ws-162940&tid=660b3398-b80e-49d2-bc5b-ac1dc93b5254\", \"run_id\": \"AutoML_e21e1292-fbc5-4445-8213-bd4c24dd2fdf\", \"run_properties\": {\"run_id\": \"AutoML_e21e1292-fbc5-4445-8213-bd4c24dd2fdf\", \"created_utc\": \"2021-11-07T11:42:56.154202Z\", \"properties\": {\"num_iterations\": \"1000\", \"training_type\": \"TrainFull\", \"acquisition_function\": \"EI\", \"primary_metric\": \"accuracy\", \"train_split\": \"0\", \"acquisition_parameter\": \"0\", \"num_cross_validation\": null, \"target\": \"cc-sta-ds12-2\", \"AMLSettingsJsonString\": \"{\\\"path\\\":null,\\\"name\\\":\\\"coupon-reco-automl\\\",\\\"subscription_id\\\":\\\"9a7511b8-150f-4a58-8528-3e7d50216c31\\\",\\\"resource_group\\\":\\\"aml-quickstarts-162940\\\",\\\"workspace_name\\\":\\\"quick-starts-ws-162940\\\",\\\"region\\\":\\\"southcentralus\\\",\\\"compute_target\\\":\\\"cc-sta-ds12-2\\\",\\\"spark_service\\\":null,\\\"azure_service\\\":\\\"remote\\\",\\\"many_models\\\":false,\\\"pipeline_fetch_max_batch_size\\\":1,\\\"enable_batch_run\\\":false,\\\"enable_run_restructure\\\":false,\\\"start_auxiliary_runs_before_parent_complete\\\":false,\\\"enable_code_generation\\\":false,\\\"iterations\\\":1000,\\\"primary_metric\\\":\\\"accuracy\\\",\\\"task_type\\\":\\\"classification\\\",\\\"data_script\\\":null,\\\"test_size\\\":0.0,\\\"test_include_predictions_only\\\":false,\\\"validation_size\\\":0.0,\\\"n_cross_validations\\\":null,\\\"y_min\\\":null,\\\"y_max\\\":null,\\\"num_classes\\\":null,\\\"featurization\\\":\\\"auto\\\",\\\"_ignore_package_version_incompatibilities\\\":false,\\\"is_timeseries\\\":false,\\\"max_cores_per_iteration\\\":1,\\\"max_concurrent_iterations\\\":5,\\\"iteration_timeout_minutes\\\":null,\\\"mem_in_mb\\\":null,\\\"enforce_time_on_windows\\\":false,\\\"experiment_timeout_minutes\\\":60,\\\"experiment_exit_score\\\":null,\\\"whitelist_models\\\":null,\\\"blacklist_algos\\\":[\\\"TensorFlowLinearClassifier\\\",\\\"TensorFlowDNN\\\"],\\\"supported_models\\\":[\\\"BernoulliNaiveBayes\\\",\\\"ExtremeRandomTrees\\\",\\\"SGD\\\",\\\"KNN\\\",\\\"TensorFlowLinearClassifier\\\",\\\"DecisionTree\\\",\\\"TensorFlowDNN\\\",\\\"LinearSVM\\\",\\\"RandomForest\\\",\\\"AveragedPerceptronClassifier\\\",\\\"GradientBoosting\\\",\\\"SVM\\\",\\\"LogisticRegression\\\",\\\"LightGBM\\\",\\\"XGBoostClassifier\\\",\\\"MultinomialNaiveBayes\\\"],\\\"private_models\\\":[],\\\"auto_blacklist\\\":true,\\\"blacklist_samples_reached\\\":false,\\\"exclude_nan_labels\\\":true,\\\"verbosity\\\":20,\\\"_debug_log\\\":\\\"azureml_automl.log\\\",\\\"show_warnings\\\":false,\\\"model_explainability\\\":true,\\\"service_url\\\":null,\\\"sdk_url\\\":null,\\\"sdk_packages\\\":null,\\\"enable_onnx_compatible_models\\\":false,\\\"enable_split_onnx_featurizer_estimator_models\\\":false,\\\"vm_type\\\":\\\"STANDARD_DS12_V2\\\",\\\"telemetry_verbosity\\\":20,\\\"send_telemetry\\\":true,\\\"enable_dnn\\\":false,\\\"scenario\\\":\\\"SDK-1.13.0\\\",\\\"environment_label\\\":null,\\\"save_mlflow\\\":false,\\\"force_text_dnn\\\":false,\\\"enable_feature_sweeping\\\":true,\\\"enable_early_stopping\\\":true,\\\"early_stopping_n_iters\\\":10,\\\"metrics\\\":null,\\\"enable_metric_confidence\\\":false,\\\"enable_ensembling\\\":true,\\\"enable_stack_ensembling\\\":true,\\\"ensemble_iterations\\\":15,\\\"enable_tf\\\":false,\\\"enable_subsampling\\\":null,\\\"subsample_seed\\\":null,\\\"enable_nimbusml\\\":false,\\\"enable_streaming\\\":false,\\\"force_streaming\\\":false,\\\"track_child_runs\\\":true,\\\"allowed_private_models\\\":[],\\\"label_column_name\\\":\\\"Y\\\",\\\"weight_column_name\\\":null,\\\"cv_split_column_names\\\":null,\\\"positive_label\\\":null,\\\"enable_local_managed\\\":false,\\\"_local_managed_run_id\\\":null,\\\"cost_mode\\\":1,\\\"lag_length\\\":0,\\\"metric_operation\\\":\\\"maximize\\\",\\\"preprocess\\\":true}\", \"DataPrepJsonString\": \"{\\\\\\\"training_data\\\\\\\": {\\\\\\\"datasetId\\\\\\\": \\\\\\\"3170cd8a-325a-4547-9027-95a257983a79\\\\\\\"}, \\\\\\\"datasets\\\\\\\": 0}\", \"EnableSubsampling\": null, \"runTemplate\": \"AutoML\", \"azureml.runsource\": \"automl\", \"display_task_type\": \"classification\", \"dependencies_versions\": \"{\\\"azureml-widgets\\\": \\\"1.34.0\\\", \\\"azureml-train\\\": \\\"1.34.0\\\", \\\"azureml-train-restclients-hyperdrive\\\": \\\"1.34.0\\\", \\\"azureml-train-core\\\": \\\"1.34.0\\\", \\\"azureml-train-automl\\\": \\\"1.34.0\\\", \\\"azureml-train-automl-runtime\\\": \\\"1.34.0\\\", \\\"azureml-train-automl-client\\\": \\\"1.34.0\\\", \\\"azureml-tensorboard\\\": \\\"1.34.0\\\", \\\"azureml-telemetry\\\": \\\"1.34.0\\\", \\\"azureml-sdk\\\": \\\"1.34.0\\\", \\\"azureml-samples\\\": \\\"0+unknown\\\", \\\"azureml-responsibleai\\\": \\\"1.34.0\\\", \\\"azureml-pipeline\\\": \\\"1.34.0\\\", \\\"azureml-pipeline-steps\\\": \\\"1.34.0\\\", \\\"azureml-pipeline-core\\\": \\\"1.34.0\\\", \\\"azureml-opendatasets\\\": \\\"1.34.0\\\", \\\"azureml-mlflow\\\": \\\"1.34.0\\\", \\\"azureml-interpret\\\": \\\"1.34.0\\\", \\\"azureml-inference-server-http\\\": \\\"0.3.1\\\", \\\"azureml-explain-model\\\": \\\"1.34.0\\\", \\\"azureml-defaults\\\": \\\"1.34.0\\\", \\\"azureml-dataset-runtime\\\": \\\"1.34.0\\\", \\\"azureml-dataprep\\\": \\\"2.22.2\\\", \\\"azureml-dataprep-rslex\\\": \\\"1.20.1\\\", \\\"azureml-dataprep-native\\\": \\\"38.0.0\\\", \\\"azureml-datadrift\\\": \\\"1.34.0\\\", \\\"azureml-core\\\": \\\"1.34.0\\\", \\\"azureml-contrib-services\\\": \\\"1.34.0\\\", \\\"azureml-contrib-server\\\": \\\"1.34.0\\\", \\\"azureml-contrib-reinforcementlearning\\\": \\\"1.34.0\\\", \\\"azureml-contrib-pipeline-steps\\\": \\\"1.34.0\\\", \\\"azureml-contrib-notebook\\\": \\\"1.34.0\\\", \\\"azureml-contrib-fairness\\\": \\\"1.34.0\\\", \\\"azureml-contrib-dataset\\\": \\\"1.34.0\\\", \\\"azureml-contrib-automl-pipeline-steps\\\": \\\"1.34.0\\\", \\\"azureml-cli-common\\\": \\\"1.34.0\\\", \\\"azureml-automl-runtime\\\": \\\"1.34.0\\\", \\\"azureml-automl-dnn-nlp\\\": \\\"1.34.0\\\", \\\"azureml-automl-core\\\": \\\"1.34.0\\\", \\\"azureml-accel-models\\\": \\\"1.34.0\\\"}\", \"_aml_system_scenario_identification\": \"Remote.Parent\", \"ClientType\": \"SDK\", \"environment_cpu_name\": \"AzureML-AutoML\", \"environment_cpu_label\": \"prod\", \"environment_gpu_name\": \"AzureML-AutoML-GPU\", \"environment_gpu_label\": \"prod\", \"root_attribution\": \"automl\", \"attribution\": \"AutoML\", \"Orchestrator\": \"AutoML\", \"CancelUri\": \"https://southcentralus.api.azureml.ms/jasmine/v1.0/subscriptions/9a7511b8-150f-4a58-8528-3e7d50216c31/resourceGroups/aml-quickstarts-162940/providers/Microsoft.MachineLearningServices/workspaces/quick-starts-ws-162940/experimentids/2ddca425-2990-4b1e-911f-1646d3aadf59/cancel/AutoML_e21e1292-fbc5-4445-8213-bd4c24dd2fdf\", \"ClientSdkVersion\": \"1.35.1\", \"snapshotId\": \"00000000-0000-0000-0000-000000000000\", \"SetupRunId\": \"AutoML_e21e1292-fbc5-4445-8213-bd4c24dd2fdf_setup\", \"SetupRunContainerId\": \"dcid.AutoML_e21e1292-fbc5-4445-8213-bd4c24dd2fdf_setup\", \"FeaturizationRunJsonPath\": \"featurizer_container.json\", \"FeaturizationRunId\": \"AutoML_e21e1292-fbc5-4445-8213-bd4c24dd2fdf_featurize\", \"ProblemInfoJsonString\": \"{\\\"dataset_num_categorical\\\": 0, \\\"is_sparse\\\": true, \\\"subsampling\\\": false, \\\"has_extra_col\\\": true, \\\"dataset_classes\\\": 2, \\\"dataset_features\\\": 113, \\\"dataset_samples\\\": 12684, \\\"single_frequency_class_detected\\\": false}\", \"ModelExplainRunId\": \"AutoML_e21e1292-fbc5-4445-8213-bd4c24dd2fdf_ModelExplain\"}, \"tags\": {\"model_explain_run\": \"best_run\", \"_aml_system_azureml.automlComponent\": \"AutoML\", \"pipeline_id\": \"\", \"score\": \"\", \"predicted_cost\": \"\", \"fit_time\": \"\", \"training_percent\": \"\", \"iteration\": \"\", \"run_preprocessor\": \"\", \"run_algorithm\": \"\", \"dynamic_whitelisting_iterations\": \"<25>;<30>;<35>;<40>;<45>;\", \"_aml_system_azureml.automl_early_exit_message\": \"No scores improved over last 20 iterations, so experiment stopped early. This early stopping behavior can be disabled by setting enable_early_stopping = False in AutoMLConfig for notebook/python SDK runs.\", \"automl_best_child_run_id\": \"AutoML_e21e1292-fbc5-4445-8213-bd4c24dd2fdf_47\", \"model_explain_best_run_child_id\": \"AutoML_e21e1292-fbc5-4445-8213-bd4c24dd2fdf_47\"}, \"end_time_utc\": \"2021-11-07T12:01:21.458795Z\", \"status\": \"Completed\", \"log_files\": {}, \"log_groups\": [], \"run_duration\": \"0:18:25\", \"run_number\": \"1\", \"run_queued_details\": {\"status\": \"Completed\", \"details\": null}}, \"child_runs\": [{\"run_id\": \"AutoML_e21e1292-fbc5-4445-8213-bd4c24dd2fdf_setup\", \"run_number\": 2, \"metric\": null, \"status\": \"Completed\", \"run_type\": \"azureml.scriptrun\", \"training_percent\": null, \"start_time\": \"2021-11-07T11:43:17.593703Z\", \"end_time\": \"2021-11-07T11:45:20.914586Z\", \"created_time\": \"2021-11-07T11:43:08.608889Z\", \"created_time_dt\": \"2021-11-07T11:43:08.608889Z\", \"duration\": \"0:02:12\", \"iteration\": null, \"goal\": null, \"run_name\": \"Completed\", \"run_properties\": null}, {\"run_id\": \"AutoML_e21e1292-fbc5-4445-8213-bd4c24dd2fdf_featurize\", \"run_number\": 3, \"metric\": null, \"status\": \"Completed\", \"run_type\": \"automl.featurization\", \"training_percent\": null, \"start_time\": \"2021-11-07T11:45:21.77444Z\", \"end_time\": \"2021-11-07T11:46:42.542896Z\", \"created_time\": \"2021-11-07T11:45:21.344593Z\", \"created_time_dt\": \"2021-11-07T11:45:21.344593Z\", \"duration\": \"0:01:21\", \"iteration\": null, \"goal\": null, \"run_name\": \"Completed\", \"run_properties\": null}, {\"run_id\": \"AutoML_e21e1292-fbc5-4445-8213-bd4c24dd2fdf_0\", \"run_number\": 5, \"metric\": null, \"status\": \"Completed\", \"run_type\": \"azureml.scriptrun\", \"training_percent\": \"100\", \"start_time\": \"2021-11-07T11:50:06.587926Z\", \"end_time\": \"2021-11-07T11:50:48.541095Z\", \"created_time\": \"2021-11-07T11:46:43.846492Z\", \"created_time_dt\": \"2021-11-07T11:46:43.846492Z\", \"duration\": \"0:04:04\", \"iteration\": \"0\", \"goal\": \"accuracy_max\", \"run_name\": \"MaxAbsScaler, LightGBM\", \"run_properties\": \"copy=True\", \"primary_metric\": 0.75268054, \"best_metric\": 0.75268054}, {\"run_id\": \"AutoML_e21e1292-fbc5-4445-8213-bd4c24dd2fdf_4\", \"run_number\": 6, \"metric\": null, \"status\": \"Completed\", \"run_type\": \"azureml.scriptrun\", \"training_percent\": \"100\", \"start_time\": \"2021-11-07T11:46:50.769783Z\", \"end_time\": \"2021-11-07T11:47:34.982722Z\", \"created_time\": \"2021-11-07T11:46:43.865031Z\", \"created_time_dt\": \"2021-11-07T11:46:43.865031Z\", \"duration\": \"0:00:51\", \"iteration\": \"4\", \"goal\": \"accuracy_max\", \"run_name\": \"MaxAbsScaler, LightGBM\", \"run_properties\": \"copy=True\", \"primary_metric\": 0.72280038, \"best_metric\": 0.75268054}, {\"run_id\": \"AutoML_e21e1292-fbc5-4445-8213-bd4c24dd2fdf_1\", \"run_number\": 7, \"metric\": null, \"status\": \"Completed\", \"run_type\": \"azureml.scriptrun\", \"training_percent\": \"100\", \"start_time\": \"2021-11-07T11:49:16.047269Z\", \"end_time\": \"2021-11-07T11:50:05.130399Z\", \"created_time\": \"2021-11-07T11:46:43.865398Z\", \"created_time_dt\": \"2021-11-07T11:46:43.865398Z\", \"duration\": \"0:03:21\", \"iteration\": \"1\", \"goal\": \"accuracy_max\", \"run_name\": \"MaxAbsScaler, XGBoostClassifier\", \"run_properties\": \"copy=True\", \"primary_metric\": 0.72043519, \"best_metric\": 0.75268054}, {\"run_id\": \"AutoML_e21e1292-fbc5-4445-8213-bd4c24dd2fdf_2\", \"run_number\": 8, \"metric\": null, \"status\": \"Completed\", \"run_type\": \"azureml.scriptrun\", \"training_percent\": \"100\", \"start_time\": \"2021-11-07T11:48:27.58334Z\", \"end_time\": \"2021-11-07T11:49:12.345558Z\", \"created_time\": \"2021-11-07T11:46:43.901005Z\", \"created_time_dt\": \"2021-11-07T11:46:43.901005Z\", \"duration\": \"0:02:28\", \"iteration\": \"2\", \"goal\": \"accuracy_max\", \"run_name\": \"MaxAbsScaler, ExtremeRandomTrees\", \"run_properties\": \"copy=True\", \"primary_metric\": 0.6735257, \"best_metric\": 0.75268054}, {\"run_id\": \"AutoML_e21e1292-fbc5-4445-8213-bd4c24dd2fdf_3\", \"run_number\": 9, \"metric\": null, \"status\": \"Completed\", \"run_type\": \"azureml.scriptrun\", \"training_percent\": \"100\", \"start_time\": \"2021-11-07T11:47:39.263787Z\", \"end_time\": \"2021-11-07T11:48:22.665589Z\", \"created_time\": \"2021-11-07T11:46:43.873245Z\", \"created_time_dt\": \"2021-11-07T11:46:43.873245Z\", \"duration\": \"0:01:38\", \"iteration\": \"3\", \"goal\": \"accuracy_max\", \"run_name\": \"SparseNormalizer, XGBoostClassifier\", \"run_properties\": \"copy=True, norm='l2'\", \"primary_metric\": 0.720041, \"best_metric\": 0.75268054}, {\"run_id\": \"AutoML_e21e1292-fbc5-4445-8213-bd4c24dd2fdf_5\", \"run_number\": 10, \"metric\": null, \"status\": \"Completed\", \"run_type\": \"azureml.scriptrun\", \"training_percent\": \"100\", \"start_time\": \"2021-11-07T11:50:37.596831Z\", \"end_time\": \"2021-11-07T11:52:06.079566Z\", \"created_time\": \"2021-11-07T11:47:37.751658Z\", \"created_time_dt\": \"2021-11-07T11:47:37.751658Z\", \"duration\": \"0:04:28\", \"iteration\": \"5\", \"goal\": \"accuracy_max\", \"run_name\": \"MaxAbsScaler, LightGBM\", \"run_properties\": \"copy=True\", \"primary_metric\": 0.69906969, \"best_metric\": 0.75268054}, {\"run_id\": \"AutoML_e21e1292-fbc5-4445-8213-bd4c24dd2fdf_6\", \"run_number\": 11, \"metric\": null, \"status\": \"Completed\", \"run_type\": \"azureml.scriptrun\", \"training_percent\": \"100\", \"start_time\": \"2021-11-07T11:50:37.788838Z\", \"end_time\": \"2021-11-07T11:52:16.777692Z\", \"created_time\": \"2021-11-07T11:48:28.532914Z\", \"created_time_dt\": \"2021-11-07T11:48:28.532914Z\", \"duration\": \"0:03:48\", \"iteration\": \"6\", \"goal\": \"accuracy_max\", \"run_name\": \"StandardScalerWrapper, XGBoostClassifier\", \"run_properties\": \"\\n    copy=True,\\n    with_mean=False,\\n    with_std=False\\n\", \"primary_metric\": 0.72942289, \"best_metric\": 0.75268054}, {\"run_id\": \"AutoML_e21e1292-fbc5-4445-8213-bd4c24dd2fdf_7\", \"run_number\": 12, \"metric\": null, \"status\": \"Completed\", \"run_type\": \"azureml.scriptrun\", \"training_percent\": \"100\", \"start_time\": \"2021-11-07T11:50:40.040681Z\", \"end_time\": \"2021-11-07T11:52:06.686751Z\", \"created_time\": \"2021-11-07T11:49:15.239999Z\", \"created_time_dt\": \"2021-11-07T11:49:15.239999Z\", \"duration\": \"0:02:51\", \"iteration\": \"7\", \"goal\": \"accuracy_max\", \"run_name\": \"MaxAbsScaler, LogisticRegression\", \"run_properties\": \"copy=True\", \"primary_metric\": 0.68614002, \"best_metric\": 0.75268054}, {\"run_id\": \"AutoML_e21e1292-fbc5-4445-8213-bd4c24dd2fdf_8\", \"run_number\": 13, \"metric\": null, \"status\": \"Completed\", \"run_type\": \"azureml.scriptrun\", \"training_percent\": \"100\", \"start_time\": \"2021-11-07T11:50:36.557865Z\", \"end_time\": \"2021-11-07T11:52:00.566552Z\", \"created_time\": \"2021-11-07T11:50:07.893083Z\", \"created_time_dt\": \"2021-11-07T11:50:07.893083Z\", \"duration\": \"0:01:52\", \"iteration\": \"8\", \"goal\": \"accuracy_max\", \"run_name\": \"StandardScalerWrapper, ExtremeRandomTrees\", \"run_properties\": \"\\n    copy=True,\\n    with_mean=False,\\n    with_std=False\\n\", \"primary_metric\": 0.67194891, \"best_metric\": 0.75268054}, {\"run_id\": \"AutoML_e21e1292-fbc5-4445-8213-bd4c24dd2fdf_9\", \"run_number\": 14, \"metric\": null, \"status\": \"Completed\", \"run_type\": \"azureml.scriptrun\", \"training_percent\": \"100\", \"start_time\": \"2021-11-07T11:51:01.248586Z\", \"end_time\": \"2021-11-07T11:51:41.139491Z\", \"created_time\": \"2021-11-07T11:50:51.428174Z\", \"created_time_dt\": \"2021-11-07T11:50:51.428174Z\", \"duration\": \"0:00:49\", \"iteration\": \"9\", \"goal\": \"accuracy_max\", \"run_name\": \"StandardScalerWrapper, XGBoostClassifier\", \"run_properties\": \"\\n    copy=True,\\n    with_mean=False,\\n    with_std=False\\n\", \"primary_metric\": 0.71736045, \"best_metric\": 0.75268054}, {\"run_id\": \"AutoML_e21e1292-fbc5-4445-8213-bd4c24dd2fdf_10\", \"run_number\": 15, \"metric\": null, \"status\": \"Completed\", \"run_type\": \"azureml.scriptrun\", \"training_percent\": \"100\", \"start_time\": \"2021-11-07T11:51:50.616011Z\", \"end_time\": \"2021-11-07T11:52:30.472592Z\", \"created_time\": \"2021-11-07T11:51:43.863559Z\", \"created_time_dt\": \"2021-11-07T11:51:43.863559Z\", \"duration\": \"0:00:46\", \"iteration\": \"10\", \"goal\": \"accuracy_max\", \"run_name\": \"SparseNormalizer, LightGBM\", \"run_properties\": \"copy=True, norm='l1'\", \"primary_metric\": 0.69638915, \"best_metric\": 0.75268054}, {\"run_id\": \"AutoML_e21e1292-fbc5-4445-8213-bd4c24dd2fdf_11\", \"run_number\": 16, \"metric\": null, \"status\": \"Completed\", \"run_type\": \"azureml.scriptrun\", \"training_percent\": \"100\", \"start_time\": \"2021-11-07T11:52:09.060869Z\", \"end_time\": \"2021-11-07T11:52:56.438015Z\", \"created_time\": \"2021-11-07T11:52:03.201901Z\", \"created_time_dt\": \"2021-11-07T11:52:03.201901Z\", \"duration\": \"0:00:53\", \"iteration\": \"11\", \"goal\": \"accuracy_max\", \"run_name\": \"StandardScalerWrapper, XGBoostClassifier\", \"run_properties\": \"\\n    copy=True,\\n    with_mean=False,\\n    with_std=False\\n\", \"primary_metric\": 0.71901608, \"best_metric\": 0.75268054}, {\"run_id\": \"AutoML_e21e1292-fbc5-4445-8213-bd4c24dd2fdf_12\", \"run_number\": 17, \"metric\": null, \"status\": \"Completed\", \"run_type\": \"azureml.scriptrun\", \"training_percent\": \"100\", \"start_time\": \"2021-11-07T11:52:40.13396Z\", \"end_time\": \"2021-11-07T11:53:24.541889Z\", \"created_time\": \"2021-11-07T11:52:08.677033Z\", \"created_time_dt\": \"2021-11-07T11:52:08.677033Z\", \"duration\": \"0:01:15\", \"iteration\": \"12\", \"goal\": \"accuracy_max\", \"run_name\": \"MaxAbsScaler, LogisticRegression\", \"run_properties\": \"copy=True\", \"primary_metric\": 0.68677073, \"best_metric\": 0.75268054}, {\"run_id\": \"AutoML_e21e1292-fbc5-4445-8213-bd4c24dd2fdf_14\", \"run_number\": 18, \"metric\": null, \"status\": \"Completed\", \"run_type\": \"azureml.scriptrun\", \"training_percent\": \"100\", \"start_time\": \"2021-11-07T11:52:40.795331Z\", \"end_time\": \"2021-11-07T11:53:21.129703Z\", \"created_time\": \"2021-11-07T11:52:33.839291Z\", \"created_time_dt\": \"2021-11-07T11:52:33.839291Z\", \"duration\": \"0:00:47\", \"iteration\": \"14\", \"goal\": \"accuracy_max\", \"run_name\": \"StandardScalerWrapper, XGBoostClassifier\", \"run_properties\": \"\\n    copy=True,\\n    with_mean=False,\\n    with_std=False\\n\", \"primary_metric\": 0.72942289, \"best_metric\": 0.75268054}, {\"run_id\": \"AutoML_e21e1292-fbc5-4445-8213-bd4c24dd2fdf_13\", \"run_number\": 19, \"metric\": null, \"status\": \"Completed\", \"run_type\": \"azureml.scriptrun\", \"training_percent\": \"100\", \"start_time\": \"2021-11-07T11:52:40.033712Z\", \"end_time\": \"2021-11-07T11:53:19.325264Z\", \"created_time\": \"2021-11-07T11:52:33.844842Z\", \"created_time_dt\": \"2021-11-07T11:52:33.844842Z\", \"duration\": \"0:00:45\", \"iteration\": \"13\", \"goal\": \"accuracy_max\", \"run_name\": \"MaxAbsScaler, SGD\", \"run_properties\": \"copy=True\", \"primary_metric\": 0.66272469, \"best_metric\": 0.75268054}, {\"run_id\": \"AutoML_e21e1292-fbc5-4445-8213-bd4c24dd2fdf_15\", \"run_number\": 20, \"metric\": null, \"status\": \"Completed\", \"run_type\": \"azureml.scriptrun\", \"training_percent\": \"100\", \"start_time\": \"2021-11-07T11:52:47.944191Z\", \"end_time\": \"2021-11-07T11:53:43.010143Z\", \"created_time\": \"2021-11-07T11:52:42.850418Z\", \"created_time_dt\": \"2021-11-07T11:52:42.850418Z\", \"duration\": \"0:01:00\", \"iteration\": \"15\", \"goal\": \"accuracy_max\", \"run_name\": \"SparseNormalizer, RandomForest\", \"run_properties\": \"copy=True, norm='l2'\", \"primary_metric\": 0.69536424, \"best_metric\": 0.75268054}, {\"run_id\": \"AutoML_e21e1292-fbc5-4445-8213-bd4c24dd2fdf_16\", \"run_number\": 21, \"metric\": null, \"status\": \"Completed\", \"run_type\": \"azureml.scriptrun\", \"training_percent\": \"100\", \"start_time\": \"2021-11-07T11:53:04.054944Z\", \"end_time\": \"2021-11-07T11:53:44.310269Z\", \"created_time\": \"2021-11-07T11:52:59.099481Z\", \"created_time_dt\": \"2021-11-07T11:52:59.099481Z\", \"duration\": \"0:00:45\", \"iteration\": \"16\", \"goal\": \"accuracy_max\", \"run_name\": \"StandardScalerWrapper, LogisticRegression\", \"run_properties\": \"\\n    copy=True,\\n    with_mean=False,\\n    with_std=False\\n\", \"primary_metric\": 0.68574582, \"best_metric\": 0.75268054}, {\"run_id\": \"AutoML_e21e1292-fbc5-4445-8213-bd4c24dd2fdf_17\", \"run_number\": 22, \"metric\": null, \"status\": \"Completed\", \"run_type\": \"azureml.scriptrun\", \"training_percent\": \"100\", \"start_time\": \"2021-11-07T11:54:21.505449Z\", \"end_time\": \"2021-11-07T11:55:06.680422Z\", \"created_time\": \"2021-11-07T11:53:21.972188Z\", \"created_time_dt\": \"2021-11-07T11:53:21.972188Z\", \"duration\": \"0:01:44\", \"iteration\": \"17\", \"goal\": \"accuracy_max\", \"run_name\": \"StandardScalerWrapper, RandomForest\", \"run_properties\": \"\\n    copy=True,\\n    with_mean=False,\\n    with_std=False\\n\", \"primary_metric\": 0.70789972, \"best_metric\": 0.75268054}, {\"run_id\": \"AutoML_e21e1292-fbc5-4445-8213-bd4c24dd2fdf_18\", \"run_number\": 23, \"metric\": null, \"status\": \"Completed\", \"run_type\": \"azureml.scriptrun\", \"training_percent\": \"100\", \"start_time\": \"2021-11-07T11:53:34.311638Z\", \"end_time\": \"2021-11-07T11:54:17.484135Z\", \"created_time\": \"2021-11-07T11:53:26.10013Z\", \"created_time_dt\": \"2021-11-07T11:53:26.10013Z\", \"duration\": \"0:00:51\", \"iteration\": \"18\", \"goal\": \"accuracy_max\", \"run_name\": \"StandardScalerWrapper, XGBoostClassifier\", \"run_properties\": \"\\n    copy=True,\\n    with_mean=False,\\n    with_std=False\\n\", \"primary_metric\": 0.73904131, \"best_metric\": 0.75268054}, {\"run_id\": \"AutoML_e21e1292-fbc5-4445-8213-bd4c24dd2fdf_19\", \"run_number\": 24, \"metric\": null, \"status\": \"Completed\", \"run_type\": \"azureml.scriptrun\", \"training_percent\": \"100\", \"start_time\": \"2021-11-07T11:53:35.355251Z\", \"end_time\": \"2021-11-07T11:54:47.102157Z\", \"created_time\": \"2021-11-07T11:53:29.450249Z\", \"created_time_dt\": \"2021-11-07T11:53:29.450249Z\", \"duration\": \"0:01:17\", \"iteration\": \"19\", \"goal\": \"accuracy_max\", \"run_name\": \"TruncatedSVDWrapper, RandomForest\", \"run_properties\": \"n_components=0.8015789473684211, random_state=None\", \"primary_metric\": 0.65996531, \"best_metric\": 0.75268054}, {\"run_id\": \"AutoML_e21e1292-fbc5-4445-8213-bd4c24dd2fdf_20\", \"run_number\": 25, \"metric\": null, \"status\": \"Completed\", \"run_type\": \"azureml.scriptrun\", \"training_percent\": \"100\", \"start_time\": \"2021-11-07T11:53:56.478849Z\", \"end_time\": \"2021-11-07T11:55:13.462823Z\", \"created_time\": \"2021-11-07T11:53:45.913257Z\", \"created_time_dt\": \"2021-11-07T11:53:45.913257Z\", \"duration\": \"0:01:27\", \"iteration\": \"20\", \"goal\": \"accuracy_max\", \"run_name\": \"TruncatedSVDWrapper, RandomForest\", \"run_properties\": \"n_components=0.7026315789473684, random_state=None\", \"primary_metric\": 0.69930621, \"best_metric\": 0.75268054}, {\"run_id\": \"AutoML_e21e1292-fbc5-4445-8213-bd4c24dd2fdf_21\", \"run_number\": 26, \"metric\": null, \"status\": \"Completed\", \"run_type\": \"azureml.scriptrun\", \"training_percent\": \"100\", \"start_time\": \"2021-11-07T11:53:56.663069Z\", \"end_time\": \"2021-11-07T11:54:40.475467Z\", \"created_time\": \"2021-11-07T11:53:49.314346Z\", \"created_time_dt\": \"2021-11-07T11:53:49.314346Z\", \"duration\": \"0:00:51\", \"iteration\": \"21\", \"goal\": \"accuracy_max\", \"run_name\": \"StandardScalerWrapper, XGBoostClassifier\", \"run_properties\": \"\\n    copy=True,\\n    with_mean=False,\\n    with_std=False\\n\", \"primary_metric\": 0.73896247, \"best_metric\": 0.75268054}, {\"run_id\": \"AutoML_e21e1292-fbc5-4445-8213-bd4c24dd2fdf_22\", \"run_number\": 27, \"metric\": null, \"status\": \"Completed\", \"run_type\": \"azureml.scriptrun\", \"training_percent\": \"100\", \"start_time\": \"2021-11-07T11:54:33.634039Z\", \"end_time\": \"2021-11-07T11:55:15.647108Z\", \"created_time\": \"2021-11-07T11:54:20.179597Z\", \"created_time_dt\": \"2021-11-07T11:54:20.179597Z\", \"duration\": \"0:00:55\", \"iteration\": \"22\", \"goal\": \"accuracy_max\", \"run_name\": \"SparseNormalizer, XGBoostClassifier\", \"run_properties\": \"copy=True, norm='l1'\", \"primary_metric\": 0.72548092, \"best_metric\": 0.75268054}, {\"run_id\": \"AutoML_e21e1292-fbc5-4445-8213-bd4c24dd2fdf_23\", \"run_number\": 28, \"metric\": null, \"status\": \"Completed\", \"run_type\": \"azureml.scriptrun\", \"training_percent\": \"100\", \"start_time\": \"2021-11-07T11:54:48.896982Z\", \"end_time\": \"2021-11-07T11:55:31.228309Z\", \"created_time\": \"2021-11-07T11:54:43.209705Z\", \"created_time_dt\": \"2021-11-07T11:54:43.209705Z\", \"duration\": \"0:00:48\", \"iteration\": \"23\", \"goal\": \"accuracy_max\", \"run_name\": \"StandardScalerWrapper, LogisticRegression\", \"run_properties\": \"\\n    copy=True,\\n    with_mean=False,\\n    with_std=True\\n\", \"primary_metric\": 0.68677073, \"best_metric\": 0.75268054}, {\"run_id\": \"AutoML_e21e1292-fbc5-4445-8213-bd4c24dd2fdf_24\", \"run_number\": 29, \"metric\": null, \"status\": \"Completed\", \"run_type\": \"azureml.scriptrun\", \"training_percent\": \"100\", \"start_time\": \"2021-11-07T11:54:55.851138Z\", \"end_time\": \"2021-11-07T11:55:36.679401Z\", \"created_time\": \"2021-11-07T11:54:49.73151Z\", \"created_time_dt\": \"2021-11-07T11:54:49.73151Z\", \"duration\": \"0:00:46\", \"iteration\": \"24\", \"goal\": \"accuracy_max\", \"run_name\": \"StandardScalerWrapper, RandomForest\", \"run_properties\": \"\\n    copy=True,\\n    with_mean=False,\\n    with_std=False\\n\", \"primary_metric\": 0.63489436, \"best_metric\": 0.75268054}, {\"run_id\": \"AutoML_e21e1292-fbc5-4445-8213-bd4c24dd2fdf_25\", \"run_number\": 30, \"metric\": null, \"status\": \"Completed\", \"run_type\": \"azureml.scriptrun\", \"training_percent\": \"100\", \"start_time\": \"2021-11-07T11:55:17.039022Z\", \"end_time\": \"2021-11-07T11:55:58.214983Z\", \"created_time\": \"2021-11-07T11:55:10.848842Z\", \"created_time_dt\": \"2021-11-07T11:55:10.848842Z\", \"duration\": \"0:00:47\", \"iteration\": \"25\", \"goal\": \"accuracy_max\", \"run_name\": \"MaxAbsScaler, LightGBM\", \"run_properties\": \"copy=True\", \"primary_metric\": 0.69796594, \"best_metric\": 0.75268054}, {\"run_id\": \"AutoML_e21e1292-fbc5-4445-8213-bd4c24dd2fdf_26\", \"run_number\": 31, \"metric\": null, \"status\": \"Completed\", \"run_type\": \"azureml.scriptrun\", \"training_percent\": \"100\", \"start_time\": \"2021-11-07T11:55:46.450462Z\", \"end_time\": \"2021-11-07T11:56:28.801709Z\", \"created_time\": \"2021-11-07T11:55:36.221883Z\", \"created_time_dt\": \"2021-11-07T11:55:36.221883Z\", \"duration\": \"0:00:52\", \"iteration\": \"26\", \"goal\": \"accuracy_max\", \"run_name\": \"SparseNormalizer, XGBoostClassifier\", \"run_properties\": \"copy=True, norm='l1'\", \"primary_metric\": 0.71941028, \"best_metric\": 0.75268054}, {\"run_id\": \"AutoML_e21e1292-fbc5-4445-8213-bd4c24dd2fdf_28\", \"run_number\": 32, \"metric\": null, \"status\": \"Completed\", \"run_type\": \"azureml.scriptrun\", \"training_percent\": \"100\", \"start_time\": \"2021-11-07T11:55:47.466485Z\", \"end_time\": \"2021-11-07T11:57:00.713381Z\", \"created_time\": \"2021-11-07T11:55:39.030835Z\", \"created_time_dt\": \"2021-11-07T11:55:39.030835Z\", \"duration\": \"0:01:21\", \"iteration\": \"28\", \"goal\": \"accuracy_max\", \"run_name\": \"SparseNormalizer, XGBoostClassifier\", \"run_properties\": \"copy=True, norm='max'\", \"primary_metric\": 0.76308735, \"best_metric\": 0.76308735}, {\"run_id\": \"AutoML_e21e1292-fbc5-4445-8213-bd4c24dd2fdf_29\", \"run_number\": 33, \"metric\": null, \"status\": \"Completed\", \"run_type\": \"azureml.scriptrun\", \"training_percent\": \"100\", \"start_time\": \"2021-11-07T11:55:47.340782Z\", \"end_time\": \"2021-11-07T11:56:28.865416Z\", \"created_time\": \"2021-11-07T11:55:39.038719Z\", \"created_time_dt\": \"2021-11-07T11:55:39.038719Z\", \"duration\": \"0:00:49\", \"iteration\": \"29\", \"goal\": \"accuracy_max\", \"run_name\": \"StandardScalerWrapper, XGBoostClassifier\", \"run_properties\": \"\\n    copy=True,\\n    with_mean=False,\\n    with_std=False\\n\", \"primary_metric\": 0.65578682, \"best_metric\": 0.76308735}, {\"run_id\": \"AutoML_e21e1292-fbc5-4445-8213-bd4c24dd2fdf_27\", \"run_number\": 34, \"metric\": null, \"status\": \"Completed\", \"run_type\": \"azureml.scriptrun\", \"training_percent\": \"100\", \"start_time\": \"2021-11-07T11:55:48.046574Z\", \"end_time\": \"2021-11-07T11:56:28.039337Z\", \"created_time\": \"2021-11-07T11:55:39.056247Z\", \"created_time_dt\": \"2021-11-07T11:55:39.056247Z\", \"duration\": \"0:00:48\", \"iteration\": \"27\", \"goal\": \"accuracy_max\", \"run_name\": \"StandardScalerWrapper, LightGBM\", \"run_properties\": \"\\n    copy=True,\\n    with_mean=False,\\n    with_std=False\\n\", \"primary_metric\": 0.64758751, \"best_metric\": 0.75268054}, {\"run_id\": \"AutoML_e21e1292-fbc5-4445-8213-bd4c24dd2fdf_30\", \"run_number\": 35, \"metric\": null, \"status\": \"Completed\", \"run_type\": \"azureml.scriptrun\", \"training_percent\": \"100\", \"start_time\": \"2021-11-07T11:56:09.460519Z\", \"end_time\": \"2021-11-07T11:57:48.174514Z\", \"created_time\": \"2021-11-07T11:56:01.600152Z\", \"created_time_dt\": \"2021-11-07T11:56:01.600152Z\", \"duration\": \"0:01:46\", \"iteration\": \"30\", \"goal\": \"accuracy_max\", \"run_name\": \"MaxAbsScaler, LightGBM\", \"run_properties\": \"copy=True\", \"primary_metric\": 0.66635131, \"best_metric\": 0.76308735}, {\"run_id\": \"AutoML_e21e1292-fbc5-4445-8213-bd4c24dd2fdf_31\", \"run_number\": 36, \"metric\": null, \"status\": \"Completed\", \"run_type\": \"azureml.scriptrun\", \"training_percent\": \"100\", \"start_time\": \"2021-11-07T11:56:36.671039Z\", \"end_time\": \"2021-11-07T11:57:28.32828Z\", \"created_time\": \"2021-11-07T11:56:29.85128Z\", \"created_time_dt\": \"2021-11-07T11:56:29.85128Z\", \"duration\": \"0:00:58\", \"iteration\": \"31\", \"goal\": \"accuracy_max\", \"run_name\": \"MaxAbsScaler, ExtremeRandomTrees\", \"run_properties\": \"copy=True\", \"primary_metric\": 0.67218543, \"best_metric\": 0.76308735}, {\"run_id\": \"AutoML_e21e1292-fbc5-4445-8213-bd4c24dd2fdf_32\", \"run_number\": 37, \"metric\": null, \"status\": \"Completed\", \"run_type\": \"azureml.scriptrun\", \"training_percent\": \"100\", \"start_time\": \"2021-11-07T11:56:40.765629Z\", \"end_time\": \"2021-11-07T11:57:22.862821Z\", \"created_time\": \"2021-11-07T11:56:33.05721Z\", \"created_time_dt\": \"2021-11-07T11:56:33.05721Z\", \"duration\": \"0:00:49\", \"iteration\": \"32\", \"goal\": \"accuracy_max\", \"run_name\": \"SparseNormalizer, XGBoostClassifier\", \"run_properties\": \"copy=True, norm='l1'\", \"primary_metric\": 0.72390413, \"best_metric\": 0.76308735}, {\"run_id\": \"AutoML_e21e1292-fbc5-4445-8213-bd4c24dd2fdf_33\", \"run_number\": 38, \"metric\": null, \"status\": \"Completed\", \"run_type\": \"azureml.scriptrun\", \"training_percent\": \"100\", \"start_time\": \"2021-11-07T11:56:39.857903Z\", \"end_time\": \"2021-11-07T11:57:31.57166Z\", \"created_time\": \"2021-11-07T11:56:33.062177Z\", \"created_time_dt\": \"2021-11-07T11:56:33.062177Z\", \"duration\": \"0:00:58\", \"iteration\": \"33\", \"goal\": \"accuracy_max\", \"run_name\": \"SparseNormalizer, XGBoostClassifier\", \"run_properties\": \"copy=True, norm='l2'\", \"primary_metric\": 0.75394197, \"best_metric\": 0.76308735}, {\"run_id\": \"AutoML_e21e1292-fbc5-4445-8213-bd4c24dd2fdf_34\", \"run_number\": 39, \"metric\": null, \"status\": \"Completed\", \"run_type\": \"azureml.scriptrun\", \"training_percent\": \"100\", \"start_time\": \"2021-11-07T11:57:08.074771Z\", \"end_time\": \"2021-11-07T11:57:52.187382Z\", \"created_time\": \"2021-11-07T11:57:02.533983Z\", \"created_time_dt\": \"2021-11-07T11:57:02.533983Z\", \"duration\": \"0:00:49\", \"iteration\": \"34\", \"goal\": \"accuracy_max\", \"run_name\": \"StandardScalerWrapper, LightGBM\", \"run_properties\": \"\\n    copy=True,\\n    with_mean=False,\\n    with_std=False\\n\", \"primary_metric\": 0.68614002, \"best_metric\": 0.76308735}, {\"run_id\": \"AutoML_e21e1292-fbc5-4445-8213-bd4c24dd2fdf_35\", \"run_number\": 40, \"metric\": null, \"status\": \"Completed\", \"run_type\": \"azureml.scriptrun\", \"training_percent\": \"100\", \"start_time\": \"2021-11-07T11:57:31.137364Z\", \"end_time\": \"2021-11-07T11:58:16.904376Z\", \"created_time\": \"2021-11-07T11:57:26.073298Z\", \"created_time_dt\": \"2021-11-07T11:57:26.073298Z\", \"duration\": \"0:00:50\", \"iteration\": \"35\", \"goal\": \"accuracy_max\", \"run_name\": \"TruncatedSVDWrapper, XGBoostClassifier\", \"run_properties\": \"n_components=0.20789473684210527, random_state=None\", \"primary_metric\": 0.56843267, \"best_metric\": 0.76308735}, {\"run_id\": \"AutoML_e21e1292-fbc5-4445-8213-bd4c24dd2fdf_36\", \"run_number\": 41, \"metric\": null, \"status\": \"Completed\", \"run_type\": \"azureml.scriptrun\", \"training_percent\": \"100\", \"start_time\": \"2021-11-07T11:57:37.609311Z\", \"end_time\": \"2021-11-07T11:58:17.390937Z\", \"created_time\": \"2021-11-07T11:57:30.097346Z\", \"created_time_dt\": \"2021-11-07T11:57:30.097346Z\", \"duration\": \"0:00:47\", \"iteration\": \"36\", \"goal\": \"accuracy_max\", \"run_name\": \"SparseNormalizer, LightGBM\", \"run_properties\": \"copy=True, norm='max'\", \"primary_metric\": 0.67470829, \"best_metric\": 0.76308735}, {\"run_id\": \"AutoML_e21e1292-fbc5-4445-8213-bd4c24dd2fdf_37\", \"run_number\": 42, \"metric\": null, \"status\": \"Completed\", \"run_type\": \"azureml.scriptrun\", \"training_percent\": \"100\", \"start_time\": \"2021-11-07T11:57:38.167799Z\", \"end_time\": \"2021-11-07T11:58:18.342333Z\", \"created_time\": \"2021-11-07T11:57:33.601148Z\", \"created_time_dt\": \"2021-11-07T11:57:33.601148Z\", \"duration\": \"0:00:44\", \"iteration\": \"37\", \"goal\": \"accuracy_max\", \"run_name\": \"StandardScalerWrapper, XGBoostClassifier\", \"run_properties\": \"\\n    copy=True,\\n    with_mean=False,\\n    with_std=False\\n\", \"primary_metric\": 0.71436455, \"best_metric\": 0.76308735}, {\"run_id\": \"AutoML_e21e1292-fbc5-4445-8213-bd4c24dd2fdf_38\", \"run_number\": 43, \"metric\": null, \"status\": \"Completed\", \"run_type\": \"azureml.scriptrun\", \"training_percent\": \"100\", \"start_time\": \"2021-11-07T11:57:55.338331Z\", \"end_time\": \"2021-11-07T11:58:35.510433Z\", \"created_time\": \"2021-11-07T11:57:50.087354Z\", \"created_time_dt\": \"2021-11-07T11:57:50.087354Z\", \"duration\": \"0:00:45\", \"iteration\": \"38\", \"goal\": \"accuracy_max\", \"run_name\": \"SparseNormalizer, XGBoostClassifier\", \"run_properties\": \"copy=True, norm='l1'\", \"primary_metric\": 0.69481236, \"best_metric\": 0.76308735}, {\"run_id\": \"AutoML_e21e1292-fbc5-4445-8213-bd4c24dd2fdf_39\", \"run_number\": 44, \"metric\": null, \"status\": \"Completed\", \"run_type\": \"azureml.scriptrun\", \"training_percent\": \"100\", \"start_time\": \"2021-11-07T11:58:12.379751Z\", \"end_time\": \"2021-11-07T11:58:56.8361Z\", \"created_time\": \"2021-11-07T11:58:04.171544Z\", \"created_time_dt\": \"2021-11-07T11:58:04.171544Z\", \"duration\": \"0:00:52\", \"iteration\": \"39\", \"goal\": \"accuracy_max\", \"run_name\": \"SparseNormalizer, LightGBM\", \"run_properties\": \"copy=True, norm='l2'\", \"primary_metric\": 0.7290287, \"best_metric\": 0.76308735}, {\"run_id\": \"AutoML_e21e1292-fbc5-4445-8213-bd4c24dd2fdf_40\", \"run_number\": 45, \"metric\": null, \"status\": \"Completed\", \"run_type\": \"azureml.scriptrun\", \"training_percent\": \"100\", \"start_time\": \"2021-11-07T11:58:28.592259Z\", \"end_time\": \"2021-11-07T11:59:13.837139Z\", \"created_time\": \"2021-11-07T11:58:19.91243Z\", \"created_time_dt\": \"2021-11-07T11:58:19.91243Z\", \"duration\": \"0:00:53\", \"iteration\": \"40\", \"goal\": \"accuracy_max\", \"run_name\": \"SparseNormalizer, XGBoostClassifier\", \"run_properties\": \"copy=True, norm='max'\", \"primary_metric\": 0.73777988, \"best_metric\": 0.76308735}, {\"run_id\": \"AutoML_e21e1292-fbc5-4445-8213-bd4c24dd2fdf_41\", \"run_number\": 46, \"metric\": null, \"status\": \"Completed\", \"run_type\": \"azureml.scriptrun\", \"training_percent\": \"100\", \"start_time\": \"2021-11-07T11:58:29.652237Z\", \"end_time\": \"2021-11-07T11:59:48.188697Z\", \"created_time\": \"2021-11-07T11:58:24.101153Z\", \"created_time_dt\": \"2021-11-07T11:58:24.101153Z\", \"duration\": \"0:01:24\", \"iteration\": \"41\", \"goal\": \"accuracy_max\", \"run_name\": \"StandardScalerWrapper, ExtremeRandomTrees\", \"run_properties\": \"\\n    copy=True,\\n    with_mean=False,\\n    with_std=False\\n\", \"primary_metric\": 0.6731315, \"best_metric\": 0.76308735}, {\"run_id\": \"AutoML_e21e1292-fbc5-4445-8213-bd4c24dd2fdf_42\", \"run_number\": 47, \"metric\": null, \"status\": \"Completed\", \"run_type\": \"azureml.scriptrun\", \"training_percent\": \"100\", \"start_time\": \"2021-11-07T11:58:28.720579Z\", \"end_time\": \"2021-11-07T11:59:10.668215Z\", \"created_time\": \"2021-11-07T11:58:24.132254Z\", \"created_time_dt\": \"2021-11-07T11:58:24.132254Z\", \"duration\": \"0:00:46\", \"iteration\": \"42\", \"goal\": \"accuracy_max\", \"run_name\": \"TruncatedSVDWrapper, XGBoostClassifier\", \"run_properties\": \"n_components=0.8510526315789474, random_state=None\", \"primary_metric\": 0.67943866, \"best_metric\": 0.76308735}, {\"run_id\": \"AutoML_e21e1292-fbc5-4445-8213-bd4c24dd2fdf_43\", \"run_number\": 48, \"metric\": null, \"status\": \"Completed\", \"run_type\": \"azureml.scriptrun\", \"training_percent\": \"100\", \"start_time\": \"2021-11-07T11:58:52.450196Z\", \"end_time\": \"2021-11-07T11:59:35.007561Z\", \"created_time\": \"2021-11-07T11:58:46.393514Z\", \"created_time_dt\": \"2021-11-07T11:58:46.393514Z\", \"duration\": \"0:00:48\", \"iteration\": \"43\", \"goal\": \"accuracy_max\", \"run_name\": \"SparseNormalizer, XGBoostClassifier\", \"run_properties\": \"copy=True, norm='max'\", \"primary_metric\": 0.73470514, \"best_metric\": 0.76308735}, {\"run_id\": \"AutoML_e21e1292-fbc5-4445-8213-bd4c24dd2fdf_44\", \"run_number\": 49, \"metric\": null, \"status\": \"Completed\", \"run_type\": \"azureml.scriptrun\", \"training_percent\": \"100\", \"start_time\": \"2021-11-07T11:59:08.778886Z\", \"end_time\": \"2021-11-07T11:59:50.637146Z\", \"created_time\": \"2021-11-07T11:58:58.832339Z\", \"created_time_dt\": \"2021-11-07T11:58:58.832339Z\", \"duration\": \"0:00:51\", \"iteration\": \"44\", \"goal\": \"accuracy_max\", \"run_name\": \"MaxAbsScaler, RandomForest\", \"run_properties\": \"copy=True\", \"primary_metric\": 0.66587827, \"best_metric\": 0.76308735}, {\"run_id\": \"AutoML_e21e1292-fbc5-4445-8213-bd4c24dd2fdf_45\", \"run_number\": 50, \"metric\": null, \"status\": \"Canceled\", \"run_type\": \"azureml.scriptrun\", \"training_percent\": \"100\", \"start_time\": \"2021-11-07T11:59:18.816101Z\", \"end_time\": \"2021-11-07T11:59:57.504527Z\", \"created_time\": \"2021-11-07T11:59:13.719243Z\", \"created_time_dt\": \"2021-11-07T11:59:13.719243Z\", \"duration\": \"0:00:43\", \"iteration\": \"45\", \"goal\": \"accuracy_max\", \"run_name\": \"TruncatedSVDWrapper, XGBoostClassifier\", \"run_properties\": \"n_components=0.05947368421052632, random_state=None\", \"primary_metric\": 0.62086093, \"best_metric\": 0.76308735}, {\"run_id\": \"AutoML_e21e1292-fbc5-4445-8213-bd4c24dd2fdf_46\", \"run_number\": 51, \"metric\": null, \"status\": \"Canceled\", \"run_type\": \"azureml.scriptrun\", \"training_percent\": \"100\", \"start_time\": \"2021-11-07T11:59:29.031758Z\", \"end_time\": \"2021-11-07T11:59:57.490318Z\", \"created_time\": \"2021-11-07T11:59:16.518061Z\", \"created_time_dt\": \"2021-11-07T11:59:16.518061Z\", \"duration\": \"0:00:40\", \"iteration\": \"46\", \"goal\": \"accuracy_max\", \"run_name\": \"MaxAbsScaler, RandomForest\", \"run_properties\": \"copy=True\", \"primary_metric\": 0.67770419, \"best_metric\": 0.76308735}, {\"run_id\": \"AutoML_e21e1292-fbc5-4445-8213-bd4c24dd2fdf_47\", \"run_number\": 52, \"metric\": null, \"status\": \"Completed\", \"run_type\": \"azureml.scriptrun\", \"training_percent\": \"100\", \"start_time\": \"2021-11-07T12:00:05.2238Z\", \"end_time\": \"2021-11-07T12:01:08.509064Z\", \"created_time\": \"2021-11-07T11:59:58.139808Z\", \"created_time_dt\": \"2021-11-07T11:59:58.139808Z\", \"duration\": \"0:01:10\", \"iteration\": \"47\", \"goal\": \"accuracy_max\", \"run_name\": \"VotingEnsemble\", \"run_properties\": \"\\n    estimators=[('28', Pipeline(\\n        memory=None,\\n        steps=[('sparsenormalizer', Normalizer(\\n            copy=True,\\n            norm='max'\\n        \", \"primary_metric\": 0.77002523, \"best_metric\": 0.77002523}, {\"run_id\": \"AutoML_e21e1292-fbc5-4445-8213-bd4c24dd2fdf_48\", \"run_number\": 53, \"metric\": null, \"status\": \"Completed\", \"run_type\": \"azureml.scriptrun\", \"training_percent\": \"100\", \"start_time\": \"2021-11-07T12:00:05.100135Z\", \"end_time\": \"2021-11-07T12:01:19.214911Z\", \"created_time\": \"2021-11-07T11:59:58.165052Z\", \"created_time_dt\": \"2021-11-07T11:59:58.165052Z\", \"duration\": \"0:01:21\", \"iteration\": \"48\", \"goal\": \"accuracy_max\", \"run_name\": \"StackEnsemble\", \"run_properties\": \"\\n    base_learners=[('28', Pipeline(\\n        memory=None,\\n        steps=[('sparsenormalizer', Normalizer(\\n            copy=True,\\n            norm='max'\\n        \", \"primary_metric\": 0.76844844, \"best_metric\": 0.77002523}], \"children_metrics\": {\"categories\": [0], \"series\": {\"accuracy\": [{\"categories\": [\"0\", \"1\", \"2\", \"3\", \"4\", \"5\", \"6\", \"7\", \"8\", \"9\", \"10\", \"11\", \"12\", \"13\", \"14\", \"15\", \"16\", \"17\", \"18\", \"19\", \"20\", \"21\", \"22\", \"23\", \"24\", \"25\", \"26\", \"27\", \"28\", \"29\", \"30\", \"31\", \"32\", \"33\", \"34\", \"35\", \"36\", \"37\", \"38\", \"39\", \"40\", \"41\", \"42\", \"43\", \"44\", \"45\", \"46\", \"47\", \"48\"], \"mode\": \"markers\", \"name\": \"accuracy\", \"stepped\": false, \"type\": \"scatter\", \"data\": [0.7526805424156419, 0.7204351939451277, 0.6735257016713971, 0.7200409965310627, 0.7228003784295175, 0.6990696941028066, 0.7294228949858089, 0.6861400189214759, 0.6719489120151372, 0.717360454115421, 0.696389151687165, 0.7190160832544938, 0.6867707347839799, 0.6627246925260171, 0.7294228949858089, 0.6953642384105959, 0.6857458215074109, 0.7078997161778618, 0.739041311888994, 0.6599653106275623, 0.6993062125512456, 0.7389624724061811, 0.7254809208451592, 0.6867707347839799, 0.6348943550930306, 0.6979659413434248, 0.7194102806685588, 0.6475875118259223, 0.7630873541469568, 0.6557868180384737, 0.6663513087354147, 0.6721854304635762, 0.7239041311888994, 0.7539419741406497, 0.6861400189214759, 0.5684326710816777, 0.674708293913592, 0.7143645537685273, 0.694812362030905, 0.7290286975717439, 0.7377798801639862, 0.6731315042573321, 0.6794386628823714, 0.7347051403342794, 0.6658782718385367, 0.6208609271523179, 0.6777041942604857, 0.7700252286345002, 0.7684484389782403]}, {\"categories\": [\"0\", \"1\", \"2\", \"3\", \"4\", \"5\", \"6\", \"7\", \"8\", \"9\", \"10\", \"11\", \"12\", \"13\", \"14\", \"15\", \"16\", \"17\", \"18\", \"19\", \"20\", \"21\", \"22\", \"23\", \"24\", \"25\", \"26\", \"27\", \"28\", \"29\", \"30\", \"31\", \"32\", \"33\", \"34\", \"35\", \"36\", \"37\", \"38\", \"39\", \"40\", \"41\", \"42\", \"43\", \"44\", \"45\", \"46\", \"47\", \"48\"], \"mode\": \"lines\", \"name\": \"accuracy_max\", \"stepped\": true, \"type\": \"scatter\", \"data\": [0.7526805424156419, 0.7526805424156419, 0.7526805424156419, 0.7526805424156419, 0.7526805424156419, 0.7526805424156419, 0.7526805424156419, 0.7526805424156419, 0.7526805424156419, 0.7526805424156419, 0.7526805424156419, 0.7526805424156419, 0.7526805424156419, 0.7526805424156419, 0.7526805424156419, 0.7526805424156419, 0.7526805424156419, 0.7526805424156419, 0.7526805424156419, 0.7526805424156419, 0.7526805424156419, 0.7526805424156419, 0.7526805424156419, 0.7526805424156419, 0.7526805424156419, 0.7526805424156419, 0.7526805424156419, 0.7526805424156419, 0.7630873541469568, 0.7630873541469568, 0.7630873541469568, 0.7630873541469568, 0.7630873541469568, 0.7630873541469568, 0.7630873541469568, 0.7630873541469568, 0.7630873541469568, 0.7630873541469568, 0.7630873541469568, 0.7630873541469568, 0.7630873541469568, 0.7630873541469568, 0.7630873541469568, 0.7630873541469568, 0.7630873541469568, 0.7630873541469568, 0.7630873541469568, 0.7700252286345002, 0.7700252286345002]}], \"precision_score_micro\": [{\"categories\": [\"0\", \"1\", \"2\", \"3\", \"4\", \"5\", \"6\", \"7\", \"8\", \"9\", \"10\", \"11\", \"12\", \"13\", \"14\", \"15\", \"16\", \"17\", \"18\", \"19\", \"20\", \"21\", \"22\", \"23\", \"24\", \"25\", \"26\", \"27\", \"28\", \"29\", \"30\", \"31\", \"32\", \"33\", \"34\", \"35\", \"36\", \"37\", \"38\", \"39\", \"40\", \"41\", \"42\", \"43\", \"44\", \"45\", \"46\", \"47\", \"48\"], \"mode\": \"markers\", \"name\": \"precision_score_micro\", \"stepped\": false, \"type\": \"scatter\", \"data\": [0.7526805424156419, 0.7204351939451277, 0.6735257016713971, 0.7200409965310627, 0.7228003784295175, 0.6990696941028066, 0.7294228949858089, 0.6861400189214759, 0.6719489120151372, 0.717360454115421, 0.696389151687165, 0.7190160832544938, 0.6867707347839799, 0.6627246925260171, 0.7294228949858089, 0.6953642384105959, 0.6857458215074109, 0.7078997161778618, 0.739041311888994, 0.6599653106275623, 0.6993062125512456, 0.7389624724061811, 0.7254809208451592, 0.6867707347839799, 0.6348943550930306, 0.6979659413434248, 0.7194102806685588, 0.6475875118259223, 0.7630873541469568, 0.6557868180384737, 0.6663513087354147, 0.6721854304635762, 0.7239041311888994, 0.7539419741406497, 0.6861400189214759, 0.5684326710816777, 0.674708293913592, 0.7143645537685273, 0.694812362030905, 0.7290286975717439, 0.7377798801639862, 0.6731315042573321, 0.6794386628823714, 0.7347051403342794, 0.6658782718385367, 0.6208609271523179, 0.6777041942604857, 0.7700252286345002, 0.7684484389782403]}, {\"categories\": [\"0\", \"1\", \"2\", \"3\", \"4\", \"5\", \"6\", \"7\", \"8\", \"9\", \"10\", \"11\", \"12\", \"13\", \"14\", \"15\", \"16\", \"17\", \"18\", \"19\", \"20\", \"21\", \"22\", \"23\", \"24\", \"25\", \"26\", \"27\", \"28\", \"29\", \"30\", \"31\", \"32\", \"33\", \"34\", \"35\", \"36\", \"37\", \"38\", \"39\", \"40\", \"41\", \"42\", \"43\", \"44\", \"45\", \"46\", \"47\", \"48\"], \"mode\": \"lines\", \"name\": \"precision_score_micro_max\", \"stepped\": true, \"type\": \"scatter\", \"data\": [0.7526805424156419, 0.7526805424156419, 0.7526805424156419, 0.7526805424156419, 0.7526805424156419, 0.7526805424156419, 0.7526805424156419, 0.7526805424156419, 0.7526805424156419, 0.7526805424156419, 0.7526805424156419, 0.7526805424156419, 0.7526805424156419, 0.7526805424156419, 0.7526805424156419, 0.7526805424156419, 0.7526805424156419, 0.7526805424156419, 0.7526805424156419, 0.7526805424156419, 0.7526805424156419, 0.7526805424156419, 0.7526805424156419, 0.7526805424156419, 0.7526805424156419, 0.7526805424156419, 0.7526805424156419, 0.7526805424156419, 0.7630873541469568, 0.7630873541469568, 0.7630873541469568, 0.7630873541469568, 0.7630873541469568, 0.7630873541469568, 0.7630873541469568, 0.7630873541469568, 0.7630873541469568, 0.7630873541469568, 0.7630873541469568, 0.7630873541469568, 0.7630873541469568, 0.7630873541469568, 0.7630873541469568, 0.7630873541469568, 0.7630873541469568, 0.7630873541469568, 0.7630873541469568, 0.7700252286345002, 0.7700252286345002]}], \"matthews_correlation\": [{\"categories\": [\"0\", \"1\", \"2\", \"3\", \"4\", \"5\", \"6\", \"7\", \"8\", \"9\", \"10\", \"11\", \"12\", \"13\", \"14\", \"15\", \"16\", \"17\", \"18\", \"19\", \"20\", \"21\", \"22\", \"23\", \"24\", \"25\", \"26\", \"27\", \"28\", \"29\", \"30\", \"31\", \"32\", \"33\", \"34\", \"35\", \"36\", \"37\", \"38\", \"39\", \"40\", \"41\", \"42\", \"43\", \"44\", \"45\", \"46\", \"47\", \"48\"], \"mode\": \"markers\", \"name\": \"matthews_correlation\", \"stepped\": false, \"type\": \"scatter\", \"data\": [0.4911775961261633, 0.4231729741188668, 0.3444011346131843, 0.4222896409848195, 0.42820211792788526, 0.38826206472014935, 0.44268158227289706, 0.35316531243489635, 0.32439148418798114, 0.417251271937988, 0.3722785879453196, 0.42027775937375716, 0.35448339921494815, 0.3415018839581985, 0.4424996813988829, 0.38439962274195844, 0.3523436467322864, 0.39682913836676176, 0.4625972944489545, 0.31672023239200736, 0.39381947895047603, 0.4622491175240759, 0.43470142161653696, 0.35449749150357257, 0.2434975735652781, 0.37635175765348966, 0.4210705082303356, 0.2919865003739008, 0.513782589135546, 0.2838911336862058, 0.3140421796525015, 0.31938973917188046, 0.4305696822652094, 0.4944137176320818, 0.3505587446136058, 0.0, 0.3251125026469816, 0.41054845107179455, 0.36918456101813124, 0.44184033783876603, 0.4600290250681705, 0.3263169717768429, 0.3356980925128468, 0.4535814284298542, 0.33832228952298776, 0.2078954989563545, 0.35617720882751475, 0.5274077041088715, 0.5243092093826137]}, {\"categories\": [\"0\", \"1\", \"2\", \"3\", \"4\", \"5\", \"6\", \"7\", \"8\", \"9\", \"10\", \"11\", \"12\", \"13\", \"14\", \"15\", \"16\", \"17\", \"18\", \"19\", \"20\", \"21\", \"22\", \"23\", \"24\", \"25\", \"26\", \"27\", \"28\", \"29\", \"30\", \"31\", \"32\", \"33\", \"34\", \"35\", \"36\", \"37\", \"38\", \"39\", \"40\", \"41\", \"42\", \"43\", \"44\", \"45\", \"46\", \"47\", \"48\"], \"mode\": \"lines\", \"name\": \"matthews_correlation_max\", \"stepped\": true, \"type\": \"scatter\", \"data\": [0.4911775961261633, 0.4911775961261633, 0.4911775961261633, 0.4911775961261633, 0.4911775961261633, 0.4911775961261633, 0.4911775961261633, 0.4911775961261633, 0.4911775961261633, 0.4911775961261633, 0.4911775961261633, 0.4911775961261633, 0.4911775961261633, 0.4911775961261633, 0.4911775961261633, 0.4911775961261633, 0.4911775961261633, 0.4911775961261633, 0.4911775961261633, 0.4911775961261633, 0.4911775961261633, 0.4911775961261633, 0.4911775961261633, 0.4911775961261633, 0.4911775961261633, 0.4911775961261633, 0.4911775961261633, 0.4911775961261633, 0.513782589135546, 0.513782589135546, 0.513782589135546, 0.513782589135546, 0.513782589135546, 0.513782589135546, 0.513782589135546, 0.513782589135546, 0.513782589135546, 0.513782589135546, 0.513782589135546, 0.513782589135546, 0.513782589135546, 0.513782589135546, 0.513782589135546, 0.513782589135546, 0.513782589135546, 0.513782589135546, 0.513782589135546, 0.5274077041088715, 0.5274077041088715]}], \"precision_score_macro\": [{\"categories\": [\"0\", \"1\", \"2\", \"3\", \"4\", \"5\", \"6\", \"7\", \"8\", \"9\", \"10\", \"11\", \"12\", \"13\", \"14\", \"15\", \"16\", \"17\", \"18\", \"19\", \"20\", \"21\", \"22\", \"23\", \"24\", \"25\", \"26\", \"27\", \"28\", \"29\", \"30\", \"31\", \"32\", \"33\", \"34\", \"35\", \"36\", \"37\", \"38\", \"39\", \"40\", \"41\", \"42\", \"43\", \"44\", \"45\", \"46\", \"47\", \"48\"], \"mode\": \"markers\", \"name\": \"precision_score_macro\", \"stepped\": false, \"type\": \"scatter\", \"data\": [0.7515075305522081, 0.7186019290912515, 0.6707406537672687, 0.7181576742491181, 0.7207783733335994, 0.7276666220827893, 0.7275168276790079, 0.68004817881891, 0.6912201699437835, 0.7148332628902065, 0.7002177531642495, 0.7168467919811641, 0.680720505960776, 0.6702948760944244, 0.7269461908838973, 0.6910182261602053, 0.6795384971573459, 0.7114583519388759, 0.737129561996923, 0.6570312154996486, 0.6954884887977449, 0.7386766224290566, 0.7221608241507483, 0.6807284834351862, 0.6645550290938366, 0.6938696886087671, 0.7173292101185985, 0.715453560157068, 0.7598297527469425, 0.659955561046262, 0.6889494433235415, 0.6704728740717942, 0.7221563232347704, 0.7511801711344875, 0.6819761662544263, 0.28421633554083886, 0.6788778532532191, 0.7117529135692836, 0.691445117035372, 0.7263350381158284, 0.7357294797667618, 0.6662402040962297, 0.6803974574869516, 0.73266391376446, 0.667791728903909, 0.6112446419430623, 0.676436980579901, 0.7689505032491301, 0.7672508321885255]}, {\"categories\": [\"0\", \"1\", \"2\", \"3\", \"4\", \"5\", \"6\", \"7\", \"8\", \"9\", \"10\", \"11\", \"12\", \"13\", \"14\", \"15\", \"16\", \"17\", \"18\", \"19\", \"20\", \"21\", \"22\", \"23\", \"24\", \"25\", \"26\", \"27\", \"28\", \"29\", \"30\", \"31\", \"32\", \"33\", \"34\", \"35\", \"36\", \"37\", \"38\", \"39\", \"40\", \"41\", \"42\", \"43\", \"44\", \"45\", \"46\", \"47\", \"48\"], \"mode\": \"lines\", \"name\": \"precision_score_macro_max\", \"stepped\": true, \"type\": \"scatter\", \"data\": [0.7515075305522081, 0.7515075305522081, 0.7515075305522081, 0.7515075305522081, 0.7515075305522081, 0.7515075305522081, 0.7515075305522081, 0.7515075305522081, 0.7515075305522081, 0.7515075305522081, 0.7515075305522081, 0.7515075305522081, 0.7515075305522081, 0.7515075305522081, 0.7515075305522081, 0.7515075305522081, 0.7515075305522081, 0.7515075305522081, 0.7515075305522081, 0.7515075305522081, 0.7515075305522081, 0.7515075305522081, 0.7515075305522081, 0.7515075305522081, 0.7515075305522081, 0.7515075305522081, 0.7515075305522081, 0.7515075305522081, 0.7598297527469425, 0.7598297527469425, 0.7598297527469425, 0.7598297527469425, 0.7598297527469425, 0.7598297527469425, 0.7598297527469425, 0.7598297527469425, 0.7598297527469425, 0.7598297527469425, 0.7598297527469425, 0.7598297527469425, 0.7598297527469425, 0.7598297527469425, 0.7598297527469425, 0.7598297527469425, 0.7598297527469425, 0.7598297527469425, 0.7598297527469425, 0.7689505032491301, 0.7689505032491301]}], \"recall_score_macro\": [{\"categories\": [\"0\", \"1\", \"2\", \"3\", \"4\", \"5\", \"6\", \"7\", \"8\", \"9\", \"10\", \"11\", \"12\", \"13\", \"14\", \"15\", \"16\", \"17\", \"18\", \"19\", \"20\", \"21\", \"22\", \"23\", \"24\", \"25\", \"26\", \"27\", \"28\", \"29\", \"30\", \"31\", \"32\", \"33\", \"34\", \"35\", \"36\", \"37\", \"38\", \"39\", \"40\", \"41\", \"42\", \"43\", \"44\", \"45\", \"46\", \"47\", \"48\"], \"mode\": \"markers\", \"name\": \"recall_score_macro\", \"stepped\": false, \"type\": \"scatter\", \"data\": [0.7398101804637277, 0.7047962056428542, 0.6736737441143942, 0.7043585732050692, 0.7076299213705929, 0.6655437630979818, 0.7153392336652334, 0.6731856218466955, 0.6375996973515822, 0.7026064736233542, 0.6730558212182363, 0.7036406312272255, 0.6738316579526192, 0.6712117867390385, 0.7156968900171786, 0.6933888539451513, 0.6728687037736045, 0.6861926126118991, 0.7256113698584065, 0.6597008996652464, 0.6983422525455681, 0.7238122853548733, 0.7126479942836411, 0.6738379803345348, 0.5903372708619669, 0.6826543708878751, 0.7039539600508137, 0.599998811871744, 0.7539864402342618, 0.6260394402104225, 0.6307795915791097, 0.6496051268708589, 0.7086262341990448, 0.7432976559320082, 0.6688301754593988, 0.5, 0.647727302442369, 0.6989944795663883, 0.6779903287637487, 0.715636242254083, 0.7244396544569179, 0.6601370346716408, 0.6562131178491849, 0.7210669797556107, 0.6705426541050893, 0.5971475398588558, 0.6797566035936393, 0.7585597726611722, 0.7571601164361681]}, {\"categories\": [\"0\", \"1\", \"2\", \"3\", \"4\", \"5\", \"6\", \"7\", \"8\", \"9\", \"10\", \"11\", \"12\", \"13\", \"14\", \"15\", \"16\", \"17\", \"18\", \"19\", \"20\", \"21\", \"22\", \"23\", \"24\", \"25\", \"26\", \"27\", \"28\", \"29\", \"30\", \"31\", \"32\", \"33\", \"34\", \"35\", \"36\", \"37\", \"38\", \"39\", \"40\", \"41\", \"42\", \"43\", \"44\", \"45\", \"46\", \"47\", \"48\"], \"mode\": \"lines\", \"name\": \"recall_score_macro_max\", \"stepped\": true, \"type\": \"scatter\", \"data\": [0.7398101804637277, 0.7398101804637277, 0.7398101804637277, 0.7398101804637277, 0.7398101804637277, 0.7398101804637277, 0.7398101804637277, 0.7398101804637277, 0.7398101804637277, 0.7398101804637277, 0.7398101804637277, 0.7398101804637277, 0.7398101804637277, 0.7398101804637277, 0.7398101804637277, 0.7398101804637277, 0.7398101804637277, 0.7398101804637277, 0.7398101804637277, 0.7398101804637277, 0.7398101804637277, 0.7398101804637277, 0.7398101804637277, 0.7398101804637277, 0.7398101804637277, 0.7398101804637277, 0.7398101804637277, 0.7398101804637277, 0.7539864402342618, 0.7539864402342618, 0.7539864402342618, 0.7539864402342618, 0.7539864402342618, 0.7539864402342618, 0.7539864402342618, 0.7539864402342618, 0.7539864402342618, 0.7539864402342618, 0.7539864402342618, 0.7539864402342618, 0.7539864402342618, 0.7539864402342618, 0.7539864402342618, 0.7539864402342618, 0.7539864402342618, 0.7539864402342618, 0.7539864402342618, 0.7585597726611722, 0.7585597726611722]}], \"norm_macro_recall\": [{\"categories\": [\"0\", \"1\", \"2\", \"3\", \"4\", \"5\", \"6\", \"7\", \"8\", \"9\", \"10\", \"11\", \"12\", \"13\", \"14\", \"15\", \"16\", \"17\", \"18\", \"19\", \"20\", \"21\", \"22\", \"23\", \"24\", \"25\", \"26\", \"27\", \"28\", \"29\", \"30\", \"31\", \"32\", \"33\", \"34\", \"35\", \"36\", \"37\", \"38\", \"39\", \"40\", \"41\", \"42\", \"43\", \"44\", \"45\", \"46\", \"47\", \"48\"], \"mode\": \"markers\", \"name\": \"norm_macro_recall\", \"stepped\": false, \"type\": \"scatter\", \"data\": [0.47962036092745536, 0.4095924112857083, 0.3473474882287885, 0.4087171464101384, 0.4152598427411857, 0.3310875261959638, 0.4306784673304666, 0.34637124369339095, 0.2751993947031645, 0.4052129472467085, 0.3461116424364725, 0.40728126245445084, 0.3476633159052384, 0.34242357347807717, 0.4313937800343574, 0.38677770789030247, 0.34573740754720905, 0.3723852252237982, 0.45122273971681315, 0.3194017993304928, 0.39668450509113645, 0.4476245707097466, 0.42529598856728223, 0.34767596066906953, 0.18067454172393363, 0.36530874177574996, 0.40790792010162713, 0.1999976237434881, 0.5079728804685236, 0.2520788804208449, 0.26155918315821935, 0.2992102537417179, 0.41725246839808955, 0.48659531186401633, 0.33766035091879787, 0.0, 0.295454604884738, 0.39798895913277677, 0.3559806575274973, 0.43127248450816574, 0.44887930891383593, 0.3202740693432815, 0.31242623569836986, 0.4421339595112214, 0.3410853082101785, 0.19429507971771157, 0.35951320718727847, 0.5171195453223445, 0.5143202328723361]}, {\"categories\": [\"0\", \"1\", \"2\", \"3\", \"4\", \"5\", \"6\", \"7\", \"8\", \"9\", \"10\", \"11\", \"12\", \"13\", \"14\", \"15\", \"16\", \"17\", \"18\", \"19\", \"20\", \"21\", \"22\", \"23\", \"24\", \"25\", \"26\", \"27\", \"28\", \"29\", \"30\", \"31\", \"32\", \"33\", \"34\", \"35\", \"36\", \"37\", \"38\", \"39\", \"40\", \"41\", \"42\", \"43\", \"44\", \"45\", \"46\", \"47\", \"48\"], \"mode\": \"lines\", \"name\": \"norm_macro_recall_max\", \"stepped\": true, \"type\": \"scatter\", \"data\": [0.47962036092745536, 0.47962036092745536, 0.47962036092745536, 0.47962036092745536, 0.47962036092745536, 0.47962036092745536, 0.47962036092745536, 0.47962036092745536, 0.47962036092745536, 0.47962036092745536, 0.47962036092745536, 0.47962036092745536, 0.47962036092745536, 0.47962036092745536, 0.47962036092745536, 0.47962036092745536, 0.47962036092745536, 0.47962036092745536, 0.47962036092745536, 0.47962036092745536, 0.47962036092745536, 0.47962036092745536, 0.47962036092745536, 0.47962036092745536, 0.47962036092745536, 0.47962036092745536, 0.47962036092745536, 0.47962036092745536, 0.5079728804685236, 0.5079728804685236, 0.5079728804685236, 0.5079728804685236, 0.5079728804685236, 0.5079728804685236, 0.5079728804685236, 0.5079728804685236, 0.5079728804685236, 0.5079728804685236, 0.5079728804685236, 0.5079728804685236, 0.5079728804685236, 0.5079728804685236, 0.5079728804685236, 0.5079728804685236, 0.5079728804685236, 0.5079728804685236, 0.5079728804685236, 0.5171195453223445, 0.5171195453223445]}], \"average_precision_score_macro\": [{\"categories\": [\"0\", \"1\", \"2\", \"3\", \"4\", \"5\", \"6\", \"7\", \"8\", \"9\", \"10\", \"11\", \"12\", \"13\", \"14\", \"15\", \"16\", \"17\", \"18\", \"19\", \"20\", \"21\", \"22\", \"23\", \"24\", \"25\", \"26\", \"27\", \"28\", \"29\", \"30\", \"31\", \"32\", \"33\", \"34\", \"35\", \"36\", \"37\", \"38\", \"39\", \"40\", \"41\", \"42\", \"43\", \"44\", \"45\", \"46\", \"47\", \"48\"], \"mode\": \"markers\", \"name\": \"average_precision_score_macro\", \"stepped\": false, \"type\": \"scatter\", \"data\": [0.8163988367940811, 0.7719090391203346, 0.7081732630545018, 0.7690363048598265, 0.7721859877030246, 0.7613011353358635, 0.7758829667439585, 0.7225516607232175, 0.7275078404241314, 0.758124950408499, 0.7332290070776385, 0.7634176513198793, 0.7223817607177613, 0.7191633942662127, 0.775633522894537, 0.7412507146937065, 0.7222961415255981, 0.7465109728885952, 0.8012797957300489, 0.7002281864896521, 0.7497032068054047, 0.7936229915314991, 0.7769046270872929, 0.7223608532769066, 0.6923928406706276, 0.7385645122325935, 0.7686704530186864, 0.7340825536979402, 0.8298565712509722, 0.682278384647583, 0.7238003179871352, 0.7012966116253904, 0.7800475793433165, 0.8163715451512404, 0.7233407742481921, 0.5, 0.7136645638586767, 0.7529542519647681, 0.7398134535591717, 0.7829579427259855, 0.7979630914502914, 0.6992217587904211, 0.7218279000084613, 0.7916510660710325, 0.6938287118587652, 0.6302829922608225, 0.7184642346436109, 0.8303359777097091, 0.8324851411841853]}, {\"categories\": [\"0\", \"1\", \"2\", \"3\", \"4\", \"5\", \"6\", \"7\", \"8\", \"9\", \"10\", \"11\", \"12\", \"13\", \"14\", \"15\", \"16\", \"17\", \"18\", \"19\", \"20\", \"21\", \"22\", \"23\", \"24\", \"25\", \"26\", \"27\", \"28\", \"29\", \"30\", \"31\", \"32\", \"33\", \"34\", \"35\", \"36\", \"37\", \"38\", \"39\", \"40\", \"41\", \"42\", \"43\", \"44\", \"45\", \"46\", \"47\", \"48\"], \"mode\": \"lines\", \"name\": \"average_precision_score_macro_max\", \"stepped\": true, \"type\": \"scatter\", \"data\": [0.8163988367940811, 0.8163988367940811, 0.8163988367940811, 0.8163988367940811, 0.8163988367940811, 0.8163988367940811, 0.8163988367940811, 0.8163988367940811, 0.8163988367940811, 0.8163988367940811, 0.8163988367940811, 0.8163988367940811, 0.8163988367940811, 0.8163988367940811, 0.8163988367940811, 0.8163988367940811, 0.8163988367940811, 0.8163988367940811, 0.8163988367940811, 0.8163988367940811, 0.8163988367940811, 0.8163988367940811, 0.8163988367940811, 0.8163988367940811, 0.8163988367940811, 0.8163988367940811, 0.8163988367940811, 0.8163988367940811, 0.8298565712509722, 0.8298565712509722, 0.8298565712509722, 0.8298565712509722, 0.8298565712509722, 0.8298565712509722, 0.8298565712509722, 0.8298565712509722, 0.8298565712509722, 0.8298565712509722, 0.8298565712509722, 0.8298565712509722, 0.8298565712509722, 0.8298565712509722, 0.8298565712509722, 0.8298565712509722, 0.8298565712509722, 0.8298565712509722, 0.8298565712509722, 0.8303359777097091, 0.8324851411841853]}], \"balanced_accuracy\": [{\"categories\": [\"0\", \"1\", \"2\", \"3\", \"4\", \"5\", \"6\", \"7\", \"8\", \"9\", \"10\", \"11\", \"12\", \"13\", \"14\", \"15\", \"16\", \"17\", \"18\", \"19\", \"20\", \"21\", \"22\", \"23\", \"24\", \"25\", \"26\", \"27\", \"28\", \"29\", \"30\", \"31\", \"32\", \"33\", \"34\", \"35\", \"36\", \"37\", \"38\", \"39\", \"40\", \"41\", \"42\", \"43\", \"44\", \"45\", \"46\", \"47\", \"48\"], \"mode\": \"markers\", \"name\": \"balanced_accuracy\", \"stepped\": false, \"type\": \"scatter\", \"data\": [0.7398101804637277, 0.7047962056428542, 0.6736737441143942, 0.7043585732050692, 0.7076299213705929, 0.6655437630979818, 0.7153392336652334, 0.6731856218466955, 0.6375996973515822, 0.7026064736233542, 0.6730558212182363, 0.7036406312272255, 0.6738316579526192, 0.6712117867390385, 0.7156968900171786, 0.6933888539451513, 0.6728687037736045, 0.6861926126118991, 0.7256113698584065, 0.6597008996652464, 0.6983422525455681, 0.7238122853548733, 0.7126479942836411, 0.6738379803345348, 0.5903372708619669, 0.6826543708878751, 0.7039539600508137, 0.599998811871744, 0.7539864402342618, 0.6260394402104225, 0.6307795915791097, 0.6496051268708589, 0.7086262341990448, 0.7432976559320082, 0.6688301754593988, 0.5, 0.647727302442369, 0.6989944795663883, 0.6779903287637487, 0.715636242254083, 0.7244396544569179, 0.6601370346716408, 0.6562131178491849, 0.7210669797556107, 0.6705426541050893, 0.5971475398588558, 0.6797566035936393, 0.7585597726611722, 0.7571601164361681]}, {\"categories\": [\"0\", \"1\", \"2\", \"3\", \"4\", \"5\", \"6\", \"7\", \"8\", \"9\", \"10\", \"11\", \"12\", \"13\", \"14\", \"15\", \"16\", \"17\", \"18\", \"19\", \"20\", \"21\", \"22\", \"23\", \"24\", \"25\", \"26\", \"27\", \"28\", \"29\", \"30\", \"31\", \"32\", \"33\", \"34\", \"35\", \"36\", \"37\", \"38\", \"39\", \"40\", \"41\", \"42\", \"43\", \"44\", \"45\", \"46\", \"47\", \"48\"], \"mode\": \"lines\", \"name\": \"balanced_accuracy_max\", \"stepped\": true, \"type\": \"scatter\", \"data\": [0.7398101804637277, 0.7398101804637277, 0.7398101804637277, 0.7398101804637277, 0.7398101804637277, 0.7398101804637277, 0.7398101804637277, 0.7398101804637277, 0.7398101804637277, 0.7398101804637277, 0.7398101804637277, 0.7398101804637277, 0.7398101804637277, 0.7398101804637277, 0.7398101804637277, 0.7398101804637277, 0.7398101804637277, 0.7398101804637277, 0.7398101804637277, 0.7398101804637277, 0.7398101804637277, 0.7398101804637277, 0.7398101804637277, 0.7398101804637277, 0.7398101804637277, 0.7398101804637277, 0.7398101804637277, 0.7398101804637277, 0.7539864402342618, 0.7539864402342618, 0.7539864402342618, 0.7539864402342618, 0.7539864402342618, 0.7539864402342618, 0.7539864402342618, 0.7539864402342618, 0.7539864402342618, 0.7539864402342618, 0.7539864402342618, 0.7539864402342618, 0.7539864402342618, 0.7539864402342618, 0.7539864402342618, 0.7539864402342618, 0.7539864402342618, 0.7539864402342618, 0.7539864402342618, 0.7585597726611722, 0.7585597726611722]}], \"AUC_macro\": [{\"categories\": [\"0\", \"1\", \"2\", \"3\", \"4\", \"5\", \"6\", \"7\", \"8\", \"9\", \"10\", \"11\", \"12\", \"13\", \"14\", \"15\", \"16\", \"17\", \"18\", \"19\", \"20\", \"21\", \"22\", \"23\", \"24\", \"25\", \"26\", \"27\", \"28\", \"29\", \"30\", \"31\", \"32\", \"33\", \"34\", \"35\", \"36\", \"37\", \"38\", \"39\", \"40\", \"41\", \"42\", \"43\", \"44\", \"45\", \"46\", \"47\", \"48\"], \"mode\": \"markers\", \"name\": \"AUC_macro\", \"stepped\": false, \"type\": \"scatter\", \"data\": [0.8211473034938294, 0.7804428311921926, 0.7259028202904915, 0.7782391245030746, 0.7808473424766307, 0.7699283667734115, 0.7871829528235227, 0.7382312870591851, 0.7423723658522355, 0.7687205666340811, 0.7460509639210099, 0.7727074031572729, 0.7381539636245941, 0.7338620256375981, 0.7849034258208022, 0.7540089884122235, 0.737977633922125, 0.7613039286580013, 0.806553347165957, 0.7140872003626996, 0.7618467928254082, 0.8001105911455836, 0.786257712646714, 0.7381499840027642, 0.7088754067503386, 0.7518918235571271, 0.7781236541276432, 0.7461574334024026, 0.8347633777362939, 0.7082235673772144, 0.7392623241695903, 0.7175249462349592, 0.7891078145400096, 0.8226048120310262, 0.7358398122508755, 0.5, 0.7281743020264569, 0.7654932512596279, 0.7510672774456347, 0.7909769627763367, 0.8055059796862617, 0.7175860997820002, 0.7341146966226487, 0.7987806079266259, 0.7150498066026123, 0.6474397003385666, 0.7336283343362876, 0.8354648586807873, 0.837414652674485]}, {\"categories\": [\"0\", \"1\", \"2\", \"3\", \"4\", \"5\", \"6\", \"7\", \"8\", \"9\", \"10\", \"11\", \"12\", \"13\", \"14\", \"15\", \"16\", \"17\", \"18\", \"19\", \"20\", \"21\", \"22\", \"23\", \"24\", \"25\", \"26\", \"27\", \"28\", \"29\", \"30\", \"31\", \"32\", \"33\", \"34\", \"35\", \"36\", \"37\", \"38\", \"39\", \"40\", \"41\", \"42\", \"43\", \"44\", \"45\", \"46\", \"47\", \"48\"], \"mode\": \"lines\", \"name\": \"AUC_macro_max\", \"stepped\": true, \"type\": \"scatter\", \"data\": [0.8211473034938294, 0.8211473034938294, 0.8211473034938294, 0.8211473034938294, 0.8211473034938294, 0.8211473034938294, 0.8211473034938294, 0.8211473034938294, 0.8211473034938294, 0.8211473034938294, 0.8211473034938294, 0.8211473034938294, 0.8211473034938294, 0.8211473034938294, 0.8211473034938294, 0.8211473034938294, 0.8211473034938294, 0.8211473034938294, 0.8211473034938294, 0.8211473034938294, 0.8211473034938294, 0.8211473034938294, 0.8211473034938294, 0.8211473034938294, 0.8211473034938294, 0.8211473034938294, 0.8211473034938294, 0.8211473034938294, 0.8347633777362939, 0.8347633777362939, 0.8347633777362939, 0.8347633777362939, 0.8347633777362939, 0.8347633777362939, 0.8347633777362939, 0.8347633777362939, 0.8347633777362939, 0.8347633777362939, 0.8347633777362939, 0.8347633777362939, 0.8347633777362939, 0.8347633777362939, 0.8347633777362939, 0.8347633777362939, 0.8347633777362939, 0.8347633777362939, 0.8347633777362939, 0.8354648586807873, 0.837414652674485]}], \"AUC_micro\": [{\"categories\": [\"0\", \"1\", \"2\", \"3\", \"4\", \"5\", \"6\", \"7\", \"8\", \"9\", \"10\", \"11\", \"12\", \"13\", \"14\", \"15\", \"16\", \"17\", \"18\", \"19\", \"20\", \"21\", \"22\", \"23\", \"24\", \"25\", \"26\", \"27\", \"28\", \"29\", \"30\", \"31\", \"32\", \"33\", \"34\", \"35\", \"36\", \"37\", \"38\", \"39\", \"40\", \"41\", \"42\", \"43\", \"44\", \"45\", \"46\", \"47\", \"48\"], \"mode\": \"markers\", \"name\": \"AUC_micro\", \"stepped\": false, \"type\": \"scatter\", \"data\": [0.8282913917727083, 0.7884441307771738, 0.7258703446292336, 0.7876374152792559, 0.7891534250646006, 0.7562657250084807, 0.7958158461840945, 0.7473927589105025, 0.7339755581193926, 0.777308734445052, 0.7533555635314957, 0.7813814146771817, 0.7473268231462576, 0.7171229846703824, 0.7946368807818729, 0.7557950749265979, 0.7471198974743619, 0.7641026082815917, 0.8143874392219939, 0.7143102350803924, 0.7639354193499689, 0.8077525317394182, 0.7956154376359552, 0.7473207069328324, 0.6942253733649943, 0.7607512776173143, 0.7872778173591265, 0.7146183020377134, 0.8412489628542965, 0.7115977503671965, 0.7277590611701897, 0.7220575009092273, 0.7969627853772973, 0.8294626839376601, 0.7454497982693801, 0.5684326710816777, 0.7325525875013836, 0.7749361377812823, 0.7587967651645545, 0.7987618844739774, 0.8126589842550765, 0.7255328154243145, 0.7405940282783874, 0.8064049882046587, 0.7127984861327542, 0.665717777177096, 0.7331694300017274, 0.8416457335532783, 0.8434304744660025]}, {\"categories\": [\"0\", \"1\", \"2\", \"3\", \"4\", \"5\", \"6\", \"7\", \"8\", \"9\", \"10\", \"11\", \"12\", \"13\", \"14\", \"15\", \"16\", \"17\", \"18\", \"19\", \"20\", \"21\", \"22\", \"23\", \"24\", \"25\", \"26\", \"27\", \"28\", \"29\", \"30\", \"31\", \"32\", \"33\", \"34\", \"35\", \"36\", \"37\", \"38\", \"39\", \"40\", \"41\", \"42\", \"43\", \"44\", \"45\", \"46\", \"47\", \"48\"], \"mode\": \"lines\", \"name\": \"AUC_micro_max\", \"stepped\": true, \"type\": \"scatter\", \"data\": [0.8282913917727083, 0.8282913917727083, 0.8282913917727083, 0.8282913917727083, 0.8282913917727083, 0.8282913917727083, 0.8282913917727083, 0.8282913917727083, 0.8282913917727083, 0.8282913917727083, 0.8282913917727083, 0.8282913917727083, 0.8282913917727083, 0.8282913917727083, 0.8282913917727083, 0.8282913917727083, 0.8282913917727083, 0.8282913917727083, 0.8282913917727083, 0.8282913917727083, 0.8282913917727083, 0.8282913917727083, 0.8282913917727083, 0.8282913917727083, 0.8282913917727083, 0.8282913917727083, 0.8282913917727083, 0.8282913917727083, 0.8412489628542965, 0.8412489628542965, 0.8412489628542965, 0.8412489628542965, 0.8412489628542965, 0.8412489628542965, 0.8412489628542965, 0.8412489628542965, 0.8412489628542965, 0.8412489628542965, 0.8412489628542965, 0.8412489628542965, 0.8412489628542965, 0.8412489628542965, 0.8412489628542965, 0.8412489628542965, 0.8412489628542965, 0.8412489628542965, 0.8412489628542965, 0.8416457335532783, 0.8434304744660025]}], \"f1_score_macro\": [{\"categories\": [\"0\", \"1\", \"2\", \"3\", \"4\", \"5\", \"6\", \"7\", \"8\", \"9\", \"10\", \"11\", \"12\", \"13\", \"14\", \"15\", \"16\", \"17\", \"18\", \"19\", \"20\", \"21\", \"22\", \"23\", \"24\", \"25\", \"26\", \"27\", \"28\", \"29\", \"30\", \"31\", \"32\", \"33\", \"34\", \"35\", \"36\", \"37\", \"38\", \"39\", \"40\", \"41\", \"42\", \"43\", \"44\", \"45\", \"46\", \"47\", \"48\"], \"mode\": \"markers\", \"name\": \"f1_score_macro\", \"stepped\": false, \"type\": \"scatter\", \"data\": [0.7428100043612743, 0.7074085763242636, 0.6707309483237361, 0.7069475867369519, 0.7102704290064183, 0.6607547459504777, 0.717910214835495, 0.674701440642313, 0.6292386601430089, 0.7049583944530307, 0.6737328958052865, 0.7061933909917874, 0.6753575375235178, 0.6617381762751483, 0.718294076536158, 0.6916017964079261, 0.6744066960351215, 0.6879233221427409, 0.7284234274857111, 0.6569913250551888, 0.6960555467853192, 0.7268826834926533, 0.7149613979560039, 0.6753598018140781, 0.5609991333312782, 0.6845496003664531, 0.7065050675455694, 0.5640244649075895, 0.7560072798951273, 0.620238819656944, 0.6191034915340531, 0.6493936796117624, 0.7112800996283511, 0.7456804668533982, 0.6703953024713729, 0.36239991491844686, 0.6456313994004033, 0.7013902916674573, 0.6797717210016089, 0.7181450968386599, 0.7271951703810281, 0.6614079030425036, 0.6557591241957952, 0.7237963262859175, 0.6644928346318948, 0.5941694393304973, 0.6756629896161342, 0.7615821681624991, 0.7600756470017705]}, {\"categories\": [\"0\", \"1\", \"2\", \"3\", \"4\", \"5\", \"6\", \"7\", \"8\", \"9\", \"10\", \"11\", \"12\", \"13\", \"14\", \"15\", \"16\", \"17\", \"18\", \"19\", \"20\", \"21\", \"22\", \"23\", \"24\", \"25\", \"26\", \"27\", \"28\", \"29\", \"30\", \"31\", \"32\", \"33\", \"34\", \"35\", \"36\", \"37\", \"38\", \"39\", \"40\", \"41\", \"42\", \"43\", \"44\", \"45\", \"46\", \"47\", \"48\"], \"mode\": \"lines\", \"name\": \"f1_score_macro_max\", \"stepped\": true, \"type\": \"scatter\", \"data\": [0.7428100043612743, 0.7428100043612743, 0.7428100043612743, 0.7428100043612743, 0.7428100043612743, 0.7428100043612743, 0.7428100043612743, 0.7428100043612743, 0.7428100043612743, 0.7428100043612743, 0.7428100043612743, 0.7428100043612743, 0.7428100043612743, 0.7428100043612743, 0.7428100043612743, 0.7428100043612743, 0.7428100043612743, 0.7428100043612743, 0.7428100043612743, 0.7428100043612743, 0.7428100043612743, 0.7428100043612743, 0.7428100043612743, 0.7428100043612743, 0.7428100043612743, 0.7428100043612743, 0.7428100043612743, 0.7428100043612743, 0.7560072798951273, 0.7560072798951273, 0.7560072798951273, 0.7560072798951273, 0.7560072798951273, 0.7560072798951273, 0.7560072798951273, 0.7560072798951273, 0.7560072798951273, 0.7560072798951273, 0.7560072798951273, 0.7560072798951273, 0.7560072798951273, 0.7560072798951273, 0.7560072798951273, 0.7560072798951273, 0.7560072798951273, 0.7560072798951273, 0.7560072798951273, 0.7615821681624991, 0.7615821681624991]}], \"recall_score_weighted\": [{\"categories\": [\"0\", \"1\", \"2\", \"3\", \"4\", \"5\", \"6\", \"7\", \"8\", \"9\", \"10\", \"11\", \"12\", \"13\", \"14\", \"15\", \"16\", \"17\", \"18\", \"19\", \"20\", \"21\", \"22\", \"23\", \"24\", \"25\", \"26\", \"27\", \"28\", \"29\", \"30\", \"31\", \"32\", \"33\", \"34\", \"35\", \"36\", \"37\", \"38\", \"39\", \"40\", \"41\", \"42\", \"43\", \"44\", \"45\", \"46\", \"47\", \"48\"], \"mode\": \"markers\", \"name\": \"recall_score_weighted\", \"stepped\": false, \"type\": \"scatter\", \"data\": [0.7526805424156419, 0.7204351939451277, 0.6735257016713971, 0.7200409965310627, 0.7228003784295175, 0.6990696941028066, 0.7294228949858089, 0.6861400189214759, 0.6719489120151372, 0.717360454115421, 0.696389151687165, 0.7190160832544938, 0.6867707347839799, 0.6627246925260171, 0.7294228949858089, 0.6953642384105959, 0.6857458215074109, 0.7078997161778618, 0.739041311888994, 0.6599653106275623, 0.6993062125512456, 0.7389624724061811, 0.7254809208451592, 0.6867707347839799, 0.6348943550930306, 0.6979659413434248, 0.7194102806685588, 0.6475875118259223, 0.7630873541469568, 0.6557868180384737, 0.6663513087354147, 0.6721854304635762, 0.7239041311888994, 0.7539419741406497, 0.6861400189214759, 0.5684326710816777, 0.674708293913592, 0.7143645537685273, 0.694812362030905, 0.7290286975717439, 0.7377798801639862, 0.6731315042573321, 0.6794386628823714, 0.7347051403342794, 0.6658782718385367, 0.6208609271523179, 0.6777041942604857, 0.7700252286345002, 0.7684484389782403]}, {\"categories\": [\"0\", \"1\", \"2\", \"3\", \"4\", \"5\", \"6\", \"7\", \"8\", \"9\", \"10\", \"11\", \"12\", \"13\", \"14\", \"15\", \"16\", \"17\", \"18\", \"19\", \"20\", \"21\", \"22\", \"23\", \"24\", \"25\", \"26\", \"27\", \"28\", \"29\", \"30\", \"31\", \"32\", \"33\", \"34\", \"35\", \"36\", \"37\", \"38\", \"39\", \"40\", \"41\", \"42\", \"43\", \"44\", \"45\", \"46\", \"47\", \"48\"], \"mode\": \"lines\", \"name\": \"recall_score_weighted_max\", \"stepped\": true, \"type\": \"scatter\", \"data\": [0.7526805424156419, 0.7526805424156419, 0.7526805424156419, 0.7526805424156419, 0.7526805424156419, 0.7526805424156419, 0.7526805424156419, 0.7526805424156419, 0.7526805424156419, 0.7526805424156419, 0.7526805424156419, 0.7526805424156419, 0.7526805424156419, 0.7526805424156419, 0.7526805424156419, 0.7526805424156419, 0.7526805424156419, 0.7526805424156419, 0.7526805424156419, 0.7526805424156419, 0.7526805424156419, 0.7526805424156419, 0.7526805424156419, 0.7526805424156419, 0.7526805424156419, 0.7526805424156419, 0.7526805424156419, 0.7526805424156419, 0.7630873541469568, 0.7630873541469568, 0.7630873541469568, 0.7630873541469568, 0.7630873541469568, 0.7630873541469568, 0.7630873541469568, 0.7630873541469568, 0.7630873541469568, 0.7630873541469568, 0.7630873541469568, 0.7630873541469568, 0.7630873541469568, 0.7630873541469568, 0.7630873541469568, 0.7630873541469568, 0.7630873541469568, 0.7630873541469568, 0.7630873541469568, 0.7700252286345002, 0.7700252286345002]}], \"f1_score_weighted\": [{\"categories\": [\"0\", \"1\", \"2\", \"3\", \"4\", \"5\", \"6\", \"7\", \"8\", \"9\", \"10\", \"11\", \"12\", \"13\", \"14\", \"15\", \"16\", \"17\", \"18\", \"19\", \"20\", \"21\", \"22\", \"23\", \"24\", \"25\", \"26\", \"27\", \"28\", \"29\", \"30\", \"31\", \"32\", \"33\", \"34\", \"35\", \"36\", \"37\", \"38\", \"39\", \"40\", \"41\", \"42\", \"43\", \"44\", \"45\", \"46\", \"47\", \"48\"], \"mode\": \"markers\", \"name\": \"f1_score_weighted\", \"stepped\": false, \"type\": \"scatter\", \"data\": [0.7497398772131603, 0.7159042549531135, 0.6749181063954949, 0.7154874666519243, 0.718567736484256, 0.6764066062674724, 0.7257286452739337, 0.6830923454745436, 0.6464543471972853, 0.7132428615032106, 0.6855019879844036, 0.7146452308023471, 0.683730069574472, 0.6631180053568896, 0.7259944819719606, 0.6963031799189464, 0.6827735355579115, 0.6987853238000173, 0.7358116007578358, 0.6614014910959192, 0.7003957966625048, 0.7347901301479308, 0.7224821709044535, 0.6837300777598595, 0.5854046910622648, 0.6934759583996745, 0.7149776220448333, 0.5896554802717062, 0.7617439052584754, 0.6360484684528004, 0.6371845672883047, 0.6616347624524009, 0.7195924052623939, 0.7519742999555667, 0.6803091557924006, 0.41206551232646177, 0.6595587181223694, 0.7099464229582574, 0.6893032097814634, 0.725752548306169, 0.7345919526469049, 0.6700531382233937, 0.6680403104289226, 0.7313384394731871, 0.6672245219884361, 0.6084137449668093, 0.67919355636206, 0.7677655332393779, 0.7662384203099742]}, {\"categories\": [\"0\", \"1\", \"2\", \"3\", \"4\", \"5\", \"6\", \"7\", \"8\", \"9\", \"10\", \"11\", \"12\", \"13\", \"14\", \"15\", \"16\", \"17\", \"18\", \"19\", \"20\", \"21\", \"22\", \"23\", \"24\", \"25\", \"26\", \"27\", \"28\", \"29\", \"30\", \"31\", \"32\", \"33\", \"34\", \"35\", \"36\", \"37\", \"38\", \"39\", \"40\", \"41\", \"42\", \"43\", \"44\", \"45\", \"46\", \"47\", \"48\"], \"mode\": \"lines\", \"name\": \"f1_score_weighted_max\", \"stepped\": true, \"type\": \"scatter\", \"data\": [0.7497398772131603, 0.7497398772131603, 0.7497398772131603, 0.7497398772131603, 0.7497398772131603, 0.7497398772131603, 0.7497398772131603, 0.7497398772131603, 0.7497398772131603, 0.7497398772131603, 0.7497398772131603, 0.7497398772131603, 0.7497398772131603, 0.7497398772131603, 0.7497398772131603, 0.7497398772131603, 0.7497398772131603, 0.7497398772131603, 0.7497398772131603, 0.7497398772131603, 0.7497398772131603, 0.7497398772131603, 0.7497398772131603, 0.7497398772131603, 0.7497398772131603, 0.7497398772131603, 0.7497398772131603, 0.7497398772131603, 0.7617439052584754, 0.7617439052584754, 0.7617439052584754, 0.7617439052584754, 0.7617439052584754, 0.7617439052584754, 0.7617439052584754, 0.7617439052584754, 0.7617439052584754, 0.7617439052584754, 0.7617439052584754, 0.7617439052584754, 0.7617439052584754, 0.7617439052584754, 0.7617439052584754, 0.7617439052584754, 0.7617439052584754, 0.7617439052584754, 0.7617439052584754, 0.7677655332393779, 0.7677655332393779]}], \"weighted_accuracy\": [{\"categories\": [\"0\", \"1\", \"2\", \"3\", \"4\", \"5\", \"6\", \"7\", \"8\", \"9\", \"10\", \"11\", \"12\", \"13\", \"14\", \"15\", \"16\", \"17\", \"18\", \"19\", \"20\", \"21\", \"22\", \"23\", \"24\", \"25\", \"26\", \"27\", \"28\", \"29\", \"30\", \"31\", \"32\", \"33\", \"34\", \"35\", \"36\", \"37\", \"38\", \"39\", \"40\", \"41\", \"42\", \"43\", \"44\", \"45\", \"46\", \"47\", \"48\"], \"mode\": \"markers\", \"name\": \"weighted_accuracy\", \"stepped\": false, \"type\": \"scatter\", \"data\": [0.7650564673557462, 0.735468674688228, 0.6733794805709885, 0.7351149193572963, 0.7373785270032731, 0.7312985313412543, 0.7429753714276096, 0.6985987968069641, 0.7049833282958321, 0.7315540093718452, 0.7188302993266528, 0.7337953547092332, 0.699215041762623, 0.654594563886894, 0.7426210410008057, 0.6972510749211965, 0.6981255381299188, 0.7287671204063471, 0.7519514866027409, 0.6602141650150709, 0.700233260809482, 0.7535293148541397, 0.7378237790043928, 0.6992094590814695, 0.6777590894265598, 0.7126927838039722, 0.7342696366652574, 0.6933925751894691, 0.7718375813104691, 0.6844118486833602, 0.7005947334105862, 0.6939043003579687, 0.7385934332030053, 0.7641810787906405, 0.702784590306407, 0.6342204216436346, 0.7006527511462165, 0.7291429466048692, 0.7109941845527663, 0.7419095326072492, 0.7506045645631977, 0.6856280372008451, 0.7017936505682755, 0.7478184251783643, 0.6614246864563951, 0.6436735039514736, 0.6757239034756269, 0.7810490651072319, 0.7793044110131538]}, {\"categories\": [\"0\", \"1\", \"2\", \"3\", \"4\", \"5\", \"6\", \"7\", \"8\", \"9\", \"10\", \"11\", \"12\", \"13\", \"14\", \"15\", \"16\", \"17\", \"18\", \"19\", \"20\", \"21\", \"22\", \"23\", \"24\", \"25\", \"26\", \"27\", \"28\", \"29\", \"30\", \"31\", \"32\", \"33\", \"34\", \"35\", \"36\", \"37\", \"38\", \"39\", \"40\", \"41\", \"42\", \"43\", \"44\", \"45\", \"46\", \"47\", \"48\"], \"mode\": \"lines\", \"name\": \"weighted_accuracy_max\", \"stepped\": true, \"type\": \"scatter\", \"data\": [0.7650564673557462, 0.7650564673557462, 0.7650564673557462, 0.7650564673557462, 0.7650564673557462, 0.7650564673557462, 0.7650564673557462, 0.7650564673557462, 0.7650564673557462, 0.7650564673557462, 0.7650564673557462, 0.7650564673557462, 0.7650564673557462, 0.7650564673557462, 0.7650564673557462, 0.7650564673557462, 0.7650564673557462, 0.7650564673557462, 0.7650564673557462, 0.7650564673557462, 0.7650564673557462, 0.7650564673557462, 0.7650564673557462, 0.7650564673557462, 0.7650564673557462, 0.7650564673557462, 0.7650564673557462, 0.7650564673557462, 0.7718375813104691, 0.7718375813104691, 0.7718375813104691, 0.7718375813104691, 0.7718375813104691, 0.7718375813104691, 0.7718375813104691, 0.7718375813104691, 0.7718375813104691, 0.7718375813104691, 0.7718375813104691, 0.7718375813104691, 0.7718375813104691, 0.7718375813104691, 0.7718375813104691, 0.7718375813104691, 0.7718375813104691, 0.7718375813104691, 0.7718375813104691, 0.7810490651072319, 0.7810490651072319]}], \"log_loss\": [{\"categories\": [\"0\", \"1\", \"2\", \"3\", \"4\", \"5\", \"6\", \"7\", \"8\", \"9\", \"10\", \"11\", \"12\", \"13\", \"14\", \"15\", \"16\", \"17\", \"18\", \"19\", \"20\", \"21\", \"22\", \"23\", \"24\", \"25\", \"26\", \"27\", \"28\", \"29\", \"30\", \"31\", \"32\", \"33\", \"34\", \"35\", \"36\", \"37\", \"38\", \"39\", \"40\", \"41\", \"42\", \"43\", \"44\", \"45\", \"46\", \"47\", \"48\"], \"mode\": \"markers\", \"name\": \"log_loss\", \"stepped\": false, \"type\": \"scatter\", \"data\": [0.5124205374733265, 0.5606369365462248, 0.6500763142840978, 0.5908003092391835, 0.5640866608068906, 0.6203493048149517, 0.5844192822622002, 0.5950415884137502, 0.6267653626870979, 0.6060056968997966, 0.6031959817084095, 0.6001487134880721, 0.5951983902665398, 0.7244813560861546, 0.5812710709550704, 0.6169151897651255, 0.5951907395143402, 0.6012749269351471, 0.5364044861933971, 0.660394378754284, 0.6319057550265569, 0.5499483502933425, 0.5735177159642987, 0.5952114033143058, 0.645901658980464, 0.5852117073636821, 0.5889605986381966, 0.6409988474082984, 0.5169348876940351, 0.6498771837210884, 0.6322873955407297, 0.6294489829259717, 0.5623351364639335, 0.5095556657972877, 0.597974314242534, 0.6839572519386489, 0.6185383751949062, 0.5990835607455474, 0.5917056193760246, 0.5506213730799275, 0.5362415425428139, 0.6160443170008651, 0.6110372958169396, 0.5424577055080541, 0.6288291355151008, 0.6505970016160019, 0.6316089088422993, 0.50870179272952, 0.5013036933741024]}, {\"categories\": [\"0\", \"1\", \"2\", \"3\", \"4\", \"5\", \"6\", \"7\", \"8\", \"9\", \"10\", \"11\", \"12\", \"13\", \"14\", \"15\", \"16\", \"17\", \"18\", \"19\", \"20\", \"21\", \"22\", \"23\", \"24\", \"25\", \"26\", \"27\", \"28\", \"29\", \"30\", \"31\", \"32\", \"33\", \"34\", \"35\", \"36\", \"37\", \"38\", \"39\", \"40\", \"41\", \"42\", \"43\", \"44\", \"45\", \"46\", \"47\", \"48\"], \"mode\": \"lines\", \"name\": \"log_loss_min\", \"stepped\": true, \"type\": \"scatter\", \"data\": [0.5124205374733265, 0.5124205374733265, 0.5124205374733265, 0.5124205374733265, 0.5124205374733265, 0.5124205374733265, 0.5124205374733265, 0.5124205374733265, 0.5124205374733265, 0.5124205374733265, 0.5124205374733265, 0.5124205374733265, 0.5124205374733265, 0.5124205374733265, 0.5124205374733265, 0.5124205374733265, 0.5124205374733265, 0.5124205374733265, 0.5124205374733265, 0.5124205374733265, 0.5124205374733265, 0.5124205374733265, 0.5124205374733265, 0.5124205374733265, 0.5124205374733265, 0.5124205374733265, 0.5124205374733265, 0.5124205374733265, 0.5124205374733265, 0.5124205374733265, 0.5124205374733265, 0.5124205374733265, 0.5124205374733265, 0.5095556657972877, 0.5095556657972877, 0.5095556657972877, 0.5095556657972877, 0.5095556657972877, 0.5095556657972877, 0.5095556657972877, 0.5095556657972877, 0.5095556657972877, 0.5095556657972877, 0.5095556657972877, 0.5095556657972877, 0.5095556657972877, 0.5095556657972877, 0.50870179272952, 0.5013036933741024]}], \"recall_score_micro\": [{\"categories\": [\"0\", \"1\", \"2\", \"3\", \"4\", \"5\", \"6\", \"7\", \"8\", \"9\", \"10\", \"11\", \"12\", \"13\", \"14\", \"15\", \"16\", \"17\", \"18\", \"19\", \"20\", \"21\", \"22\", \"23\", \"24\", \"25\", \"26\", \"27\", \"28\", \"29\", \"30\", \"31\", \"32\", \"33\", \"34\", \"35\", \"36\", \"37\", \"38\", \"39\", \"40\", \"41\", \"42\", \"43\", \"44\", \"45\", \"46\", \"47\", \"48\"], \"mode\": \"markers\", \"name\": \"recall_score_micro\", \"stepped\": false, \"type\": \"scatter\", \"data\": [0.7526805424156419, 0.7204351939451277, 0.6735257016713971, 0.7200409965310627, 0.7228003784295175, 0.6990696941028066, 0.7294228949858089, 0.6861400189214759, 0.6719489120151372, 0.717360454115421, 0.696389151687165, 0.7190160832544938, 0.6867707347839799, 0.6627246925260171, 0.7294228949858089, 0.6953642384105959, 0.6857458215074109, 0.7078997161778618, 0.739041311888994, 0.6599653106275623, 0.6993062125512456, 0.7389624724061811, 0.7254809208451592, 0.6867707347839799, 0.6348943550930306, 0.6979659413434248, 0.7194102806685588, 0.6475875118259223, 0.7630873541469568, 0.6557868180384737, 0.6663513087354147, 0.6721854304635762, 0.7239041311888994, 0.7539419741406497, 0.6861400189214759, 0.5684326710816777, 0.674708293913592, 0.7143645537685273, 0.694812362030905, 0.7290286975717439, 0.7377798801639862, 0.6731315042573321, 0.6794386628823714, 0.7347051403342794, 0.6658782718385367, 0.6208609271523179, 0.6777041942604857, 0.7700252286345002, 0.7684484389782403]}, {\"categories\": [\"0\", \"1\", \"2\", \"3\", \"4\", \"5\", \"6\", \"7\", \"8\", \"9\", \"10\", \"11\", \"12\", \"13\", \"14\", \"15\", \"16\", \"17\", \"18\", \"19\", \"20\", \"21\", \"22\", \"23\", \"24\", \"25\", \"26\", \"27\", \"28\", \"29\", \"30\", \"31\", \"32\", \"33\", \"34\", \"35\", \"36\", \"37\", \"38\", \"39\", \"40\", \"41\", \"42\", \"43\", \"44\", \"45\", \"46\", \"47\", \"48\"], \"mode\": \"lines\", \"name\": \"recall_score_micro_max\", \"stepped\": true, \"type\": \"scatter\", \"data\": [0.7526805424156419, 0.7526805424156419, 0.7526805424156419, 0.7526805424156419, 0.7526805424156419, 0.7526805424156419, 0.7526805424156419, 0.7526805424156419, 0.7526805424156419, 0.7526805424156419, 0.7526805424156419, 0.7526805424156419, 0.7526805424156419, 0.7526805424156419, 0.7526805424156419, 0.7526805424156419, 0.7526805424156419, 0.7526805424156419, 0.7526805424156419, 0.7526805424156419, 0.7526805424156419, 0.7526805424156419, 0.7526805424156419, 0.7526805424156419, 0.7526805424156419, 0.7526805424156419, 0.7526805424156419, 0.7526805424156419, 0.7630873541469568, 0.7630873541469568, 0.7630873541469568, 0.7630873541469568, 0.7630873541469568, 0.7630873541469568, 0.7630873541469568, 0.7630873541469568, 0.7630873541469568, 0.7630873541469568, 0.7630873541469568, 0.7630873541469568, 0.7630873541469568, 0.7630873541469568, 0.7630873541469568, 0.7630873541469568, 0.7630873541469568, 0.7630873541469568, 0.7630873541469568, 0.7700252286345002, 0.7700252286345002]}], \"precision_score_weighted\": [{\"categories\": [\"0\", \"1\", \"2\", \"3\", \"4\", \"5\", \"6\", \"7\", \"8\", \"9\", \"10\", \"11\", \"12\", \"13\", \"14\", \"15\", \"16\", \"17\", \"18\", \"19\", \"20\", \"21\", \"22\", \"23\", \"24\", \"25\", \"26\", \"27\", \"28\", \"29\", \"30\", \"31\", \"32\", \"33\", \"34\", \"35\", \"36\", \"37\", \"38\", \"39\", \"40\", \"41\", \"42\", \"43\", \"44\", \"45\", \"46\", \"47\", \"48\"], \"mode\": \"markers\", \"name\": \"precision_score_weighted\", \"stepped\": false, \"type\": \"scatter\", \"data\": [0.7522564333509938, 0.719571292999365, 0.6792044111033987, 0.7191701846880375, 0.7218480964404854, 0.7204470243236386, 0.7287783385190975, 0.6837360160510025, 0.6866282649554516, 0.716329545386869, 0.6990480144474464, 0.718015882535379, 0.6843866769459458, 0.6815131164603531, 0.7283679906294739, 0.6984190526078309, 0.6832624439802166, 0.7103200507520439, 0.7382240635305868, 0.6655332098986123, 0.7031634037966658, 0.7389499515404333, 0.7241754503523952, 0.6843963092400317, 0.6587699164299166, 0.6961038438528296, 0.7184545287968908, 0.7036274955829162, 0.7621366729901614, 0.6592090069099358, 0.684058124975711, 0.6713219434250135, 0.7231428247943891, 0.75300502335379, 0.6840598432762435, 0.32319671651828136, 0.6777608977835944, 0.7131503532667315, 0.6932608386774116, 0.727925526571393, 0.7369377200560269, 0.6704077258744819, 0.6804595468584759, 0.7338496888398437, 0.6778169611604756, 0.6151089312953673, 0.6854692025549888, 0.7696724803198451, 0.7681129685359022]}, {\"categories\": [\"0\", \"1\", \"2\", \"3\", \"4\", \"5\", \"6\", \"7\", \"8\", \"9\", \"10\", \"11\", \"12\", \"13\", \"14\", \"15\", \"16\", \"17\", \"18\", \"19\", \"20\", \"21\", \"22\", \"23\", \"24\", \"25\", \"26\", \"27\", \"28\", \"29\", \"30\", \"31\", \"32\", \"33\", \"34\", \"35\", \"36\", \"37\", \"38\", \"39\", \"40\", \"41\", \"42\", \"43\", \"44\", \"45\", \"46\", \"47\", \"48\"], \"mode\": \"lines\", \"name\": \"precision_score_weighted_max\", \"stepped\": true, \"type\": \"scatter\", \"data\": [0.7522564333509938, 0.7522564333509938, 0.7522564333509938, 0.7522564333509938, 0.7522564333509938, 0.7522564333509938, 0.7522564333509938, 0.7522564333509938, 0.7522564333509938, 0.7522564333509938, 0.7522564333509938, 0.7522564333509938, 0.7522564333509938, 0.7522564333509938, 0.7522564333509938, 0.7522564333509938, 0.7522564333509938, 0.7522564333509938, 0.7522564333509938, 0.7522564333509938, 0.7522564333509938, 0.7522564333509938, 0.7522564333509938, 0.7522564333509938, 0.7522564333509938, 0.7522564333509938, 0.7522564333509938, 0.7522564333509938, 0.7621366729901614, 0.7621366729901614, 0.7621366729901614, 0.7621366729901614, 0.7621366729901614, 0.7621366729901614, 0.7621366729901614, 0.7621366729901614, 0.7621366729901614, 0.7621366729901614, 0.7621366729901614, 0.7621366729901614, 0.7621366729901614, 0.7621366729901614, 0.7621366729901614, 0.7621366729901614, 0.7621366729901614, 0.7621366729901614, 0.7621366729901614, 0.7696724803198451, 0.7696724803198451]}], \"average_precision_score_micro\": [{\"categories\": [\"0\", \"1\", \"2\", \"3\", \"4\", \"5\", \"6\", \"7\", \"8\", \"9\", \"10\", \"11\", \"12\", \"13\", \"14\", \"15\", \"16\", \"17\", \"18\", \"19\", \"20\", \"21\", \"22\", \"23\", \"24\", \"25\", \"26\", \"27\", \"28\", \"29\", \"30\", \"31\", \"32\", \"33\", \"34\", \"35\", \"36\", \"37\", \"38\", \"39\", \"40\", \"41\", \"42\", \"43\", \"44\", \"45\", \"46\", \"47\", \"48\"], \"mode\": \"markers\", \"name\": \"average_precision_score_micro\", \"stepped\": false, \"type\": \"scatter\", \"data\": [0.8231262062985406, 0.7795428230795879, 0.7119066938759501, 0.7762308938154335, 0.7785464202385586, 0.7438145902079776, 0.7820399153937435, 0.7356332244203664, 0.7240483571156714, 0.7628054283448295, 0.739757126563137, 0.7694206684922823, 0.7354381766538497, 0.7043976577830705, 0.7825545600810795, 0.7449595413236471, 0.7354931463589596, 0.7506945643414588, 0.8080815898199551, 0.7046297790292383, 0.7550156481593775, 0.7996675054302241, 0.7847475487538192, 0.7354194123468515, 0.6874796018955656, 0.748906070977147, 0.7763611026227948, 0.7068785050702134, 0.8356714590742572, 0.6911702982976639, 0.714871225098237, 0.7074722247225633, 0.786579275058063, 0.8229098180320328, 0.7354804422443234, 0.5389803809774425, 0.7215922375015903, 0.7610679161011961, 0.7492091053216208, 0.7899161058685055, 0.8047847766133694, 0.7098384408713727, 0.7292024077341712, 0.7987598933648522, 0.6964423056866695, 0.6488013610336069, 0.7217672744484281, 0.8356374017374241, 0.8376072660316991]}, {\"categories\": [\"0\", \"1\", \"2\", \"3\", \"4\", \"5\", \"6\", \"7\", \"8\", \"9\", \"10\", \"11\", \"12\", \"13\", \"14\", \"15\", \"16\", \"17\", \"18\", \"19\", \"20\", \"21\", \"22\", \"23\", \"24\", \"25\", \"26\", \"27\", \"28\", \"29\", \"30\", \"31\", \"32\", \"33\", \"34\", \"35\", \"36\", \"37\", \"38\", \"39\", \"40\", \"41\", \"42\", \"43\", \"44\", \"45\", \"46\", \"47\", \"48\"], \"mode\": \"lines\", \"name\": \"average_precision_score_micro_max\", \"stepped\": true, \"type\": \"scatter\", \"data\": [0.8231262062985406, 0.8231262062985406, 0.8231262062985406, 0.8231262062985406, 0.8231262062985406, 0.8231262062985406, 0.8231262062985406, 0.8231262062985406, 0.8231262062985406, 0.8231262062985406, 0.8231262062985406, 0.8231262062985406, 0.8231262062985406, 0.8231262062985406, 0.8231262062985406, 0.8231262062985406, 0.8231262062985406, 0.8231262062985406, 0.8231262062985406, 0.8231262062985406, 0.8231262062985406, 0.8231262062985406, 0.8231262062985406, 0.8231262062985406, 0.8231262062985406, 0.8231262062985406, 0.8231262062985406, 0.8231262062985406, 0.8356714590742572, 0.8356714590742572, 0.8356714590742572, 0.8356714590742572, 0.8356714590742572, 0.8356714590742572, 0.8356714590742572, 0.8356714590742572, 0.8356714590742572, 0.8356714590742572, 0.8356714590742572, 0.8356714590742572, 0.8356714590742572, 0.8356714590742572, 0.8356714590742572, 0.8356714590742572, 0.8356714590742572, 0.8356714590742572, 0.8356714590742572, 0.8356714590742572, 0.8376072660316991]}], \"AUC_weighted\": [{\"categories\": [\"0\", \"1\", \"2\", \"3\", \"4\", \"5\", \"6\", \"7\", \"8\", \"9\", \"10\", \"11\", \"12\", \"13\", \"14\", \"15\", \"16\", \"17\", \"18\", \"19\", \"20\", \"21\", \"22\", \"23\", \"24\", \"25\", \"26\", \"27\", \"28\", \"29\", \"30\", \"31\", \"32\", \"33\", \"34\", \"35\", \"36\", \"37\", \"38\", \"39\", \"40\", \"41\", \"42\", \"43\", \"44\", \"45\", \"46\", \"47\", \"48\"], \"mode\": \"markers\", \"name\": \"AUC_weighted\", \"stepped\": false, \"type\": \"scatter\", \"data\": [0.8211473034938294, 0.7804428311921926, 0.7259028202904915, 0.7782391276103818, 0.7808473424766307, 0.7699283667734115, 0.7871829504394666, 0.7382312870591851, 0.7423723658522355, 0.7687205666340811, 0.7460509639210099, 0.772707402434022, 0.7381539636245941, 0.7338620256375981, 0.7849034258208021, 0.7540089884122235, 0.737977633922125, 0.7613039286580013, 0.8065533447819009, 0.7140872003626996, 0.7618467928254082, 0.8001105911455836, 0.7862577126467137, 0.7381499840027642, 0.7088754067503386, 0.7518918235571271, 0.7781236541276432, 0.7461574334024026, 0.8347633777362939, 0.7082235673772144, 0.7392623241695903, 0.717524946234959, 0.7891078145400096, 0.8226048120310262, 0.7358398122508755, 0.5, 0.7281743020264569, 0.7654932512596279, 0.7510672774456347, 0.7909769627763367, 0.8055059796862617, 0.7175860997820003, 0.7341146966226487, 0.7987806079266259, 0.7150498066026123, 0.6474397003385666, 0.7336283343362875, 0.8354648586807873, 0.837414652674485]}, {\"categories\": [\"0\", \"1\", \"2\", \"3\", \"4\", \"5\", \"6\", \"7\", \"8\", \"9\", \"10\", \"11\", \"12\", \"13\", \"14\", \"15\", \"16\", \"17\", \"18\", \"19\", \"20\", \"21\", \"22\", \"23\", \"24\", \"25\", \"26\", \"27\", \"28\", \"29\", \"30\", \"31\", \"32\", \"33\", \"34\", \"35\", \"36\", \"37\", \"38\", \"39\", \"40\", \"41\", \"42\", \"43\", \"44\", \"45\", \"46\", \"47\", \"48\"], \"mode\": \"lines\", \"name\": \"AUC_weighted_max\", \"stepped\": true, \"type\": \"scatter\", \"data\": [0.8211473034938294, 0.8211473034938294, 0.8211473034938294, 0.8211473034938294, 0.8211473034938294, 0.8211473034938294, 0.8211473034938294, 0.8211473034938294, 0.8211473034938294, 0.8211473034938294, 0.8211473034938294, 0.8211473034938294, 0.8211473034938294, 0.8211473034938294, 0.8211473034938294, 0.8211473034938294, 0.8211473034938294, 0.8211473034938294, 0.8211473034938294, 0.8211473034938294, 0.8211473034938294, 0.8211473034938294, 0.8211473034938294, 0.8211473034938294, 0.8211473034938294, 0.8211473034938294, 0.8211473034938294, 0.8211473034938294, 0.8347633777362939, 0.8347633777362939, 0.8347633777362939, 0.8347633777362939, 0.8347633777362939, 0.8347633777362939, 0.8347633777362939, 0.8347633777362939, 0.8347633777362939, 0.8347633777362939, 0.8347633777362939, 0.8347633777362939, 0.8347633777362939, 0.8347633777362939, 0.8347633777362939, 0.8347633777362939, 0.8347633777362939, 0.8347633777362939, 0.8347633777362939, 0.8354648586807873, 0.837414652674485]}], \"f1_score_micro\": [{\"categories\": [\"0\", \"1\", \"2\", \"3\", \"4\", \"5\", \"6\", \"7\", \"8\", \"9\", \"10\", \"11\", \"12\", \"13\", \"14\", \"15\", \"16\", \"17\", \"18\", \"19\", \"20\", \"21\", \"22\", \"23\", \"24\", \"25\", \"26\", \"27\", \"28\", \"29\", \"30\", \"31\", \"32\", \"33\", \"34\", \"35\", \"36\", \"37\", \"38\", \"39\", \"40\", \"41\", \"42\", \"43\", \"44\", \"45\", \"46\", \"47\", \"48\"], \"mode\": \"markers\", \"name\": \"f1_score_micro\", \"stepped\": false, \"type\": \"scatter\", \"data\": [0.7526805424156419, 0.7204351939451278, 0.6735257016713971, 0.7200409965310627, 0.7228003784295174, 0.6990696941028066, 0.7294228949858089, 0.6861400189214759, 0.6719489120151372, 0.717360454115421, 0.696389151687165, 0.7190160832544938, 0.6867707347839799, 0.6627246925260171, 0.7294228949858089, 0.6953642384105959, 0.6857458215074109, 0.7078997161778618, 0.739041311888994, 0.6599653106275623, 0.6993062125512456, 0.7389624724061808, 0.7254809208451592, 0.6867707347839799, 0.6348943550930306, 0.6979659413434248, 0.7194102806685588, 0.6475875118259223, 0.7630873541469568, 0.6557868180384737, 0.6663513087354147, 0.6721854304635762, 0.7239041311888994, 0.7539419741406497, 0.6861400189214759, 0.5684326710816777, 0.674708293913592, 0.7143645537685273, 0.694812362030905, 0.7290286975717439, 0.7377798801639862, 0.6731315042573321, 0.6794386628823714, 0.7347051403342794, 0.6658782718385367, 0.6208609271523179, 0.6777041942604857, 0.7700252286345002, 0.7684484389782402]}, {\"categories\": [\"0\", \"1\", \"2\", \"3\", \"4\", \"5\", \"6\", \"7\", \"8\", \"9\", \"10\", \"11\", \"12\", \"13\", \"14\", \"15\", \"16\", \"17\", \"18\", \"19\", \"20\", \"21\", \"22\", \"23\", \"24\", \"25\", \"26\", \"27\", \"28\", \"29\", \"30\", \"31\", \"32\", \"33\", \"34\", \"35\", \"36\", \"37\", \"38\", \"39\", \"40\", \"41\", \"42\", \"43\", \"44\", \"45\", \"46\", \"47\", \"48\"], \"mode\": \"lines\", \"name\": \"f1_score_micro_max\", \"stepped\": true, \"type\": \"scatter\", \"data\": [0.7526805424156419, 0.7526805424156419, 0.7526805424156419, 0.7526805424156419, 0.7526805424156419, 0.7526805424156419, 0.7526805424156419, 0.7526805424156419, 0.7526805424156419, 0.7526805424156419, 0.7526805424156419, 0.7526805424156419, 0.7526805424156419, 0.7526805424156419, 0.7526805424156419, 0.7526805424156419, 0.7526805424156419, 0.7526805424156419, 0.7526805424156419, 0.7526805424156419, 0.7526805424156419, 0.7526805424156419, 0.7526805424156419, 0.7526805424156419, 0.7526805424156419, 0.7526805424156419, 0.7526805424156419, 0.7526805424156419, 0.7630873541469568, 0.7630873541469568, 0.7630873541469568, 0.7630873541469568, 0.7630873541469568, 0.7630873541469568, 0.7630873541469568, 0.7630873541469568, 0.7630873541469568, 0.7630873541469568, 0.7630873541469568, 0.7630873541469568, 0.7630873541469568, 0.7630873541469568, 0.7630873541469568, 0.7630873541469568, 0.7630873541469568, 0.7630873541469568, 0.7630873541469568, 0.7700252286345002, 0.7700252286345002]}], \"average_precision_score_weighted\": [{\"categories\": [\"0\", \"1\", \"2\", \"3\", \"4\", \"5\", \"6\", \"7\", \"8\", \"9\", \"10\", \"11\", \"12\", \"13\", \"14\", \"15\", \"16\", \"17\", \"18\", \"19\", \"20\", \"21\", \"22\", \"23\", \"24\", \"25\", \"26\", \"27\", \"28\", \"29\", \"30\", \"31\", \"32\", \"33\", \"34\", \"35\", \"36\", \"37\", \"38\", \"39\", \"40\", \"41\", \"42\", \"43\", \"44\", \"45\", \"46\", \"47\", \"48\"], \"mode\": \"markers\", \"name\": \"average_precision_score_weighted\", \"stepped\": false, \"type\": \"scatter\", \"data\": [0.8205123739667003, 0.7770603279584689, 0.7159239599115136, 0.7735359976289601, 0.7771134487393274, 0.7661029069923545, 0.7801671238563018, 0.7298661091592927, 0.7344622359400267, 0.7630219835160053, 0.7393673436303261, 0.7683646938685955, 0.7296848132075938, 0.7265659890106374, 0.7797958788261292, 0.7476238127077846, 0.7296653277302787, 0.752833250147165, 0.805536977797421, 0.7081383074255259, 0.7561315306228914, 0.797909054945364, 0.7811420932109779, 0.7296640708515211, 0.7002022206648658, 0.744967308792598, 0.7734308202973431, 0.739627324064473, 0.8333447484641207, 0.6895867913681114, 0.7299852892199299, 0.7084996573358887, 0.7847813914609093, 0.8203523460165122, 0.7303714514791707, 0.5095280908732074, 0.7210503857376543, 0.7580815318971487, 0.7464379800530546, 0.7878447526723359, 0.8024884474786829, 0.7065575690659704, 0.7284570309050259, 0.7962887338022518, 0.7005237057125578, 0.6384227452678477, 0.7252878703252049, 0.8339710223000472, 0.8361210043242447]}, {\"categories\": [\"0\", \"1\", \"2\", \"3\", \"4\", \"5\", \"6\", \"7\", \"8\", \"9\", \"10\", \"11\", \"12\", \"13\", \"14\", \"15\", \"16\", \"17\", \"18\", \"19\", \"20\", \"21\", \"22\", \"23\", \"24\", \"25\", \"26\", \"27\", \"28\", \"29\", \"30\", \"31\", \"32\", \"33\", \"34\", \"35\", \"36\", \"37\", \"38\", \"39\", \"40\", \"41\", \"42\", \"43\", \"44\", \"45\", \"46\", \"47\", \"48\"], \"mode\": \"lines\", \"name\": \"average_precision_score_weighted_max\", \"stepped\": true, \"type\": \"scatter\", \"data\": [0.8205123739667003, 0.8205123739667003, 0.8205123739667003, 0.8205123739667003, 0.8205123739667003, 0.8205123739667003, 0.8205123739667003, 0.8205123739667003, 0.8205123739667003, 0.8205123739667003, 0.8205123739667003, 0.8205123739667003, 0.8205123739667003, 0.8205123739667003, 0.8205123739667003, 0.8205123739667003, 0.8205123739667003, 0.8205123739667003, 0.8205123739667003, 0.8205123739667003, 0.8205123739667003, 0.8205123739667003, 0.8205123739667003, 0.8205123739667003, 0.8205123739667003, 0.8205123739667003, 0.8205123739667003, 0.8205123739667003, 0.8333447484641207, 0.8333447484641207, 0.8333447484641207, 0.8333447484641207, 0.8333447484641207, 0.8333447484641207, 0.8333447484641207, 0.8333447484641207, 0.8333447484641207, 0.8333447484641207, 0.8333447484641207, 0.8333447484641207, 0.8333447484641207, 0.8333447484641207, 0.8333447484641207, 0.8333447484641207, 0.8333447484641207, 0.8333447484641207, 0.8333447484641207, 0.8339710223000472, 0.8361210043242447]}]}, \"metricName\": null, \"primaryMetricName\": \"accuracy\", \"showLegend\": false}, \"run_metrics\": [{\"name\": \"experiment_status\", \"run_id\": \"AutoML_e21e1292-fbc5-4445-8213-bd4c24dd2fdf\", \"categories\": [0, 1, 2, 3, 4, 5, 6, 7, 8, 9, 10, 11, 12, 13], \"series\": [{\"data\": [\"DatasetEvaluation\", \"FeaturesGeneration\", \"DatasetFeaturization\", \"DatasetFeaturizationCompleted\", \"DatasetCrossValidationSplit\", \"ModelSelection\", \"BestRunExplainModel\", \"ModelExplanationDataSetSetup\", \"PickSurrogateModel\", \"EngineeredFeatureExplanations\", \"EngineeredFeatureExplanations\", \"RawFeaturesExplanations\", \"RawFeaturesExplanations\", \"BestRunExplainModel\"]}]}, {\"name\": \"experiment_status_description\", \"run_id\": \"AutoML_e21e1292-fbc5-4445-8213-bd4c24dd2fdf\", \"categories\": [0, 1, 2, 3, 4, 5, 6, 7, 8, 9, 10, 11, 12, 13], \"series\": [{\"data\": [\"Gathering dataset statistics.\", \"Generating features for the dataset.\", \"Beginning to fit featurizers and featurize the dataset.\", \"Completed fit featurizers and featurizing the dataset.\", \"Generating individually featurized CV splits.\", \"Beginning model selection.\", \"Best run model explanations started\", \"Model explanations data setup completed\", \"Choosing LightGBM as the surrogate model for explanations\", \"Computation of engineered features started\", \"Computation of engineered features completed\", \"Computation of raw features started\", \"Computation of raw features completed\", \"Best run model explanations completed\"]}]}, {\"name\": \"balanced_accuracy\", \"run_id\": \"AutoML_e21e1292-fbc5-4445-8213-bd4c24dd2fdf\", \"categories\": [0], \"series\": [{\"data\": [0.7585597726611722]}]}, {\"name\": \"log_loss\", \"run_id\": \"AutoML_e21e1292-fbc5-4445-8213-bd4c24dd2fdf\", \"categories\": [0], \"series\": [{\"data\": [0.50870179272952]}]}, {\"name\": \"precision_score_micro\", \"run_id\": \"AutoML_e21e1292-fbc5-4445-8213-bd4c24dd2fdf\", \"categories\": [0], \"series\": [{\"data\": [0.7700252286345002]}]}, {\"name\": \"recall_score_weighted\", \"run_id\": \"AutoML_e21e1292-fbc5-4445-8213-bd4c24dd2fdf\", \"categories\": [0], \"series\": [{\"data\": [0.7700252286345002]}]}, {\"name\": \"f1_score_micro\", \"run_id\": \"AutoML_e21e1292-fbc5-4445-8213-bd4c24dd2fdf\", \"categories\": [0], \"series\": [{\"data\": [0.7700252286345002]}]}, {\"name\": \"AUC_micro\", \"run_id\": \"AutoML_e21e1292-fbc5-4445-8213-bd4c24dd2fdf\", \"categories\": [0], \"series\": [{\"data\": [0.8416457335532783]}]}, {\"name\": \"matthews_correlation\", \"run_id\": \"AutoML_e21e1292-fbc5-4445-8213-bd4c24dd2fdf\", \"categories\": [0], \"series\": [{\"data\": [0.5274077041088715]}]}, {\"name\": \"average_precision_score_micro\", \"run_id\": \"AutoML_e21e1292-fbc5-4445-8213-bd4c24dd2fdf\", \"categories\": [0], \"series\": [{\"data\": [0.8356374017374241]}]}, {\"name\": \"recall_score_micro\", \"run_id\": \"AutoML_e21e1292-fbc5-4445-8213-bd4c24dd2fdf\", \"categories\": [0], \"series\": [{\"data\": [0.7700252286345002]}]}, {\"name\": \"f1_score_macro\", \"run_id\": \"AutoML_e21e1292-fbc5-4445-8213-bd4c24dd2fdf\", \"categories\": [0], \"series\": [{\"data\": [0.7615821681624991]}]}, {\"name\": \"average_precision_score_macro\", \"run_id\": \"AutoML_e21e1292-fbc5-4445-8213-bd4c24dd2fdf\", \"categories\": [0], \"series\": [{\"data\": [0.8303359777097091]}]}, {\"name\": \"average_precision_score_weighted\", \"run_id\": \"AutoML_e21e1292-fbc5-4445-8213-bd4c24dd2fdf\", \"categories\": [0], \"series\": [{\"data\": [0.8339710223000472]}]}, {\"name\": \"recall_score_macro\", \"run_id\": \"AutoML_e21e1292-fbc5-4445-8213-bd4c24dd2fdf\", \"categories\": [0], \"series\": [{\"data\": [0.7585597726611722]}]}, {\"name\": \"precision_score_macro\", \"run_id\": \"AutoML_e21e1292-fbc5-4445-8213-bd4c24dd2fdf\", \"categories\": [0], \"series\": [{\"data\": [0.7689505032491301]}]}, {\"name\": \"AUC_macro\", \"run_id\": \"AutoML_e21e1292-fbc5-4445-8213-bd4c24dd2fdf\", \"categories\": [0], \"series\": [{\"data\": [0.8354648586807873]}]}, {\"name\": \"f1_score_weighted\", \"run_id\": \"AutoML_e21e1292-fbc5-4445-8213-bd4c24dd2fdf\", \"categories\": [0], \"series\": [{\"data\": [0.7677655332393779]}]}, {\"name\": \"precision_score_weighted\", \"run_id\": \"AutoML_e21e1292-fbc5-4445-8213-bd4c24dd2fdf\", \"categories\": [0], \"series\": [{\"data\": [0.7696724803198451]}]}, {\"name\": \"weighted_accuracy\", \"run_id\": \"AutoML_e21e1292-fbc5-4445-8213-bd4c24dd2fdf\", \"categories\": [0], \"series\": [{\"data\": [0.7810490651072319]}]}, {\"name\": \"accuracy\", \"run_id\": \"AutoML_e21e1292-fbc5-4445-8213-bd4c24dd2fdf\", \"categories\": [0], \"series\": [{\"data\": [0.7700252286345002]}]}, {\"name\": \"AUC_weighted\", \"run_id\": \"AutoML_e21e1292-fbc5-4445-8213-bd4c24dd2fdf\", \"categories\": [0], \"series\": [{\"data\": [0.8354648586807873]}]}, {\"name\": \"norm_macro_recall\", \"run_id\": \"AutoML_e21e1292-fbc5-4445-8213-bd4c24dd2fdf\", \"categories\": [0], \"series\": [{\"data\": [0.5171195453223445]}]}], \"run_logs\": \"\\nRun is completed.\", \"graph\": {}, \"widget_settings\": {\"childWidgetDisplay\": \"popup\", \"send_telemetry\": false, \"log_level\": \"INFO\", \"sdk_version\": \"1.34.0\"}, \"loading\": false}"
     },
     "metadata": {},
     "output_type": "display_data"
    },
    {
     "data": {
      "text/html": [
       "<table style=\"width:100%\"><tr><th>Experiment</th><th>Id</th><th>Type</th><th>Status</th><th>Details Page</th><th>Docs Page</th></tr><tr><td>coupon-reco-automl</td><td>AutoML_e21e1292-fbc5-4445-8213-bd4c24dd2fdf</td><td>automl</td><td>NotStarted</td><td><a href=\"https://ml.azure.com/runs/AutoML_e21e1292-fbc5-4445-8213-bd4c24dd2fdf?wsid=/subscriptions/9a7511b8-150f-4a58-8528-3e7d50216c31/resourcegroups/aml-quickstarts-162940/workspaces/quick-starts-ws-162940&amp;tid=660b3398-b80e-49d2-bc5b-ac1dc93b5254\" target=\"_blank\" rel=\"noopener\">Link to Azure Machine Learning studio</a></td><td><a href=\"https://docs.microsoft.com/en-us/python/api/overview/azure/ml/intro?view=azure-ml-py\" target=\"_blank\" rel=\"noopener\">Link to Documentation</a></td></tr></table>"
      ],
      "text/plain": [
       "<IPython.core.display.HTML object>"
      ]
     },
     "metadata": {},
     "output_type": "display_data"
    },
    {
     "name": "stdout",
     "output_type": "stream",
     "text": [
      "\n",
      "Current status: FeaturesGeneration. Generating features for the dataset.\n",
      "Current status: DatasetCrossValidationSplit. Generating individually featurized CV splits.\n",
      "Current status: ModelSelection. Beginning model selection.\n",
      "\n",
      "****************************************************************************************************\n",
      "DATA GUARDRAILS: \n",
      "\n",
      "TYPE:         Cross validation\n",
      "STATUS:       DONE\n",
      "DESCRIPTION:  Each iteration of the trained model was validated through cross-validation.\n",
      "              \n",
      "DETAILS:      \n",
      "+---------------------------------+\n",
      "|Number of folds                  |\n",
      "+=================================+\n",
      "|3                                |\n",
      "+---------------------------------+\n",
      "\n",
      "****************************************************************************************************\n",
      "\n",
      "TYPE:         Class balancing detection\n",
      "STATUS:       PASSED\n",
      "DESCRIPTION:  Your inputs were analyzed, and all classes are balanced in your training data.\n",
      "              Learn more about imbalanced data: https://aka.ms/AutomatedMLImbalancedData\n",
      "\n",
      "****************************************************************************************************\n",
      "\n",
      "TYPE:         Missing feature values imputation\n",
      "STATUS:       DONE\n",
      "DESCRIPTION:  If the missing values are expected, let the run complete. Otherwise cancel the current run and use a script to customize the handling of missing feature values that may be more appropriate based on the data type and business requirement.\n",
      "              Learn more about missing value imputation: https://aka.ms/AutomatedMLFeaturization\n",
      "DETAILS:      \n",
      "+---------------------------------+---------------------------------+---------------------------------+\n",
      "|Column name                      |Missing value count              |Imputation type                  |\n",
      "+=================================+=================================+=================================+\n",
      "|age                              |2335                             |mean                             |\n",
      "|car                              |12576                            |                                 |\n",
      "|Bar                              |107                              |                                 |\n",
      "|CoffeeHouse                      |217                              |                                 |\n",
      "|CarryAway                        |151                              |                                 |\n",
      "|RestaurantLessThan20             |130                              |                                 |\n",
      "|Restaurant20To50                 |189                              |                                 |\n",
      "+---------------------------------+---------------------------------+---------------------------------+\n",
      "\n",
      "****************************************************************************************************\n",
      "\n",
      "TYPE:         High cardinality feature detection\n",
      "STATUS:       PASSED\n",
      "DESCRIPTION:  Your inputs were analyzed, and no high cardinality features were detected.\n",
      "              Learn more about high cardinality feature handling: https://aka.ms/AutomatedMLFeaturization\n",
      "\n",
      "****************************************************************************************************\n",
      "\n",
      "****************************************************************************************************\n",
      "ITERATION: The iteration being evaluated.\n",
      "PIPELINE: A summary description of the pipeline being evaluated.\n",
      "DURATION: Time taken for the current iteration.\n",
      "METRIC: The result of computing score on the fitted pipeline.\n",
      "BEST: The best observed score thus far.\n",
      "****************************************************************************************************\n",
      "\n",
      " ITERATION   PIPELINE                                       DURATION      METRIC      BEST\n",
      "         4   MaxAbsScaler LightGBM                          0:00:44       0.7228    0.7228\n",
      "         3   SparseNormalizer XGBoostClassifier             0:00:43       0.7200    0.7228\n",
      "         2   MaxAbsScaler ExtremeRandomTrees                0:00:45       0.6735    0.7228\n",
      "         1   MaxAbsScaler XGBoostClassifier                 0:00:49       0.7204    0.7228\n",
      "         0   MaxAbsScaler LightGBM                          0:00:42       0.7527    0.7527\n",
      "         9   StandardScalerWrapper XGBoostClassifier        0:00:40       0.7174    0.7527\n",
      "         5   MaxAbsScaler LightGBM                          0:01:28       0.6991    0.7527\n",
      "         7   MaxAbsScaler LogisticRegression                0:01:27       0.6861    0.7527\n",
      "         8   StandardScalerWrapper ExtremeRandomTrees       0:01:24       0.6719    0.7527\n",
      "         6   StandardScalerWrapper XGBoostClassifier        0:01:39       0.7294    0.7527\n",
      "        10   SparseNormalizer LightGBM                      0:00:40       0.6964    0.7527\n",
      "        11   StandardScalerWrapper XGBoostClassifier        0:00:47       0.7190    0.7527\n",
      "        12   MaxAbsScaler LogisticRegression                0:00:44       0.6868    0.7527\n",
      "        13   MaxAbsScaler SGD                               0:00:39       0.6627    0.7527\n",
      "        14   StandardScalerWrapper XGBoostClassifier        0:00:40       0.7294    0.7527\n",
      "        15   SparseNormalizer RandomForest                  0:00:55       0.6954    0.7527\n",
      "        16   StandardScalerWrapper LogisticRegression       0:00:40       0.6857    0.7527\n",
      "        18   StandardScalerWrapper XGBoostClassifier        0:00:43       0.7390    0.7527\n",
      "        21   StandardScalerWrapper XGBoostClassifier        0:00:44       0.7390    0.7527\n",
      "        19   TruncatedSVDWrapper RandomForest               0:01:12       0.6600    0.7527\n",
      "        17   StandardScalerWrapper RandomForest             0:00:45       0.7079    0.7527\n",
      "        20   TruncatedSVDWrapper RandomForest               0:01:17       0.6993    0.7527\n",
      "        22   SparseNormalizer XGBoostClassifier             0:00:42       0.7255    0.7527\n",
      "        23   StandardScalerWrapper LogisticRegression       0:00:42       0.6868    0.7527\n",
      "        24   StandardScalerWrapper RandomForest             0:00:41       0.6349    0.7527\n",
      "        25   MaxAbsScaler LightGBM                          0:00:41       0.6980    0.7527\n",
      "        26   SparseNormalizer XGBoostClassifier             0:00:42       0.7194    0.7527\n",
      "        27   StandardScalerWrapper LightGBM                 0:00:40       0.6476    0.7527\n",
      "        29   StandardScalerWrapper XGBoostClassifier        0:00:42       0.6558    0.7527\n",
      "        28   SparseNormalizer XGBoostClassifier             0:01:13       0.7631    0.7631\n",
      "        32   SparseNormalizer XGBoostClassifier             0:00:42       0.7239    0.7631\n",
      "        31   MaxAbsScaler ExtremeRandomTrees                0:00:52       0.6722    0.7631\n",
      "        33   SparseNormalizer XGBoostClassifier             0:00:52       0.7539    0.7631\n",
      "        30   MaxAbsScaler LightGBM                          0:01:39       0.6664    0.7631\n",
      "        34   StandardScalerWrapper LightGBM                 0:00:44       0.6861    0.7631\n",
      "        35   TruncatedSVDWrapper XGBoostClassifier          0:00:46       0.5684    0.7631\n",
      "        36   SparseNormalizer LightGBM                      0:00:40       0.6747    0.7631\n",
      "        37   StandardScalerWrapper XGBoostClassifier        0:00:40       0.7144    0.7631\n",
      "        38   SparseNormalizer XGBoostClassifier             0:00:40       0.6948    0.7631\n",
      "        39   SparseNormalizer LightGBM                      0:00:44       0.7290    0.7631\n",
      "        42   TruncatedSVDWrapper XGBoostClassifier          0:00:42       0.6794    0.7631\n",
      "        40   SparseNormalizer XGBoostClassifier             0:00:45       0.7378    0.7631\n",
      "        43   SparseNormalizer XGBoostClassifier             0:00:43       0.7347    0.7631\n",
      "        41   StandardScalerWrapper ExtremeRandomTrees       0:01:19       0.6731    0.7631\n",
      "        44   MaxAbsScaler RandomForest                      0:00:42       0.6659    0.7631\n",
      "        45   TruncatedSVDWrapper XGBoostClassifier          0:00:39       0.6209    0.7631\n",
      "        46   MaxAbsScaler RandomForest                      0:00:28       0.6777    0.7631\n",
      "        47    VotingEnsemble                                0:01:03       0.7700    0.7700\n",
      "        48    StackEnsemble                                 0:01:14       0.7684    0.7700\n"
     ]
    }
   ],
   "source": [
    "from azureml.widgets import RunDetails\n",
    "\n",
    "RunDetails(remote_run).show()\n",
    "remote_run.wait_for_completion(show_output = True)\n",
    "assert(remote_run.get_status() == \"Completed\")"
   ]
  },
  {
   "cell_type": "markdown",
   "metadata": {},
   "source": [
    "## Best Model\n",
    "\n",
    "TODO: In the cell below, get the best model from the automl experiments and display all the properties of the model.\n",
    "\n"
   ]
  },
  {
   "cell_type": "code",
   "execution_count": 12,
   "metadata": {
    "gather": {
     "logged": 1636286765737
    },
    "jupyter": {
     "outputs_hidden": false,
     "source_hidden": false
    },
    "nteract": {
     "transient": {
      "deleting": false
     }
    }
   },
   "outputs": [
    {
     "name": "stderr",
     "output_type": "stream",
     "text": [
      "WARNING:root:The version of the SDK does not match the version the model was trained on.\n",
      "WARNING:root:The consistency in the result may not be guaranteed.\n",
      "WARNING:root:Package:azureml-automl-core, training version:1.35.1, current version:1.34.0\n",
      "Package:azureml-automl-runtime, training version:1.35.1, current version:1.34.0\n",
      "Package:azureml-core, training version:1.35.0.post1, current version:1.34.0\n",
      "Package:azureml-dataprep, training version:2.23.2, current version:2.22.2\n",
      "Package:azureml-dataprep-rslex, training version:1.21.2, current version:1.20.1\n",
      "Package:azureml-dataset-runtime, training version:1.35.0, current version:1.34.0\n",
      "Package:azureml-defaults, training version:1.35.0, current version:1.34.0\n",
      "Package:azureml-interpret, training version:1.35.0, current version:1.34.0\n",
      "Package:azureml-mlflow, training version:1.35.0, current version:1.34.0\n",
      "Package:azureml-pipeline-core, training version:1.35.0, current version:1.34.0\n",
      "Package:azureml-responsibleai, training version:1.35.0, current version:1.34.0\n",
      "Package:azureml-telemetry, training version:1.35.0, current version:1.34.0\n",
      "Package:azureml-train-automl-client, training version:1.35.0, current version:1.34.0\n",
      "Package:azureml-train-automl-runtime, training version:1.35.1, current version:1.34.0\n",
      "Package:azureml-train-core, training version:1.35.0, current version:1.34.0\n",
      "Package:azureml-train-restclients-hyperdrive, training version:1.35.0, current version:1.34.0\n",
      "WARNING:root:Please ensure the version of your local conda dependencies match the version on which your model was trained in order to properly retrieve your model.\n"
     ]
    },
    {
     "name": "stdout",
     "output_type": "stream",
     "text": [
      "Fitted model:  ('prefittedsoftvotingclassifier', PreFittedSoftVotingClassifier(\n",
      "    estimators=[('28', Pipeline(\n",
      "        memory=None,\n",
      "        steps=[('sparsenormalizer', Normalizer(\n",
      "            copy=True,\n",
      "            norm='max'\n",
      "        )), ('xgboostclassifier', XGBoostClassifier(\n",
      "            random_state=0,\n",
      "            n_jobs=1,\n",
      "            problem_info=ProblemInfo(\n",
      "                gpu_training_param_dict={'processing_unit_type': 'cpu'}\n",
      "            ),\n",
      "            booster='gbtree',\n",
      "            colsample_bytree=0.7,\n",
      "            eta=0.3,\n",
      "            gamma=0,\n",
      "            max_depth=9,\n",
      "            max_leaves=0,\n",
      "            n_estimators=400,\n",
      "            objective='reg:logistic',\n",
      "            reg_alpha=0,\n",
      "            reg_lambda=1.3541666666666667,\n",
      "            subsample=1,\n",
      "            tree_method='auto'\n",
      "        ))],\n",
      "        verbose=False\n",
      "    )), ('33', Pipeline(\n",
      "        memory=None,\n",
      "        steps=[('sparsenormalizer', Normalizer(\n",
      "            copy=True,\n",
      "            norm='l2'\n",
      "        )), ('xgboostclassifier', XGBoostClassifier(\n",
      "            random_state=0,\n",
      "            n_jobs=1,\n",
      "            problem_info=ProblemInfo(\n",
      "                gpu_training_param_dict={'processing_unit_type': 'cpu'}\n",
      "            ),\n",
      "            booster='gbtree',\n",
      "            colsample_bylevel=0.7,\n",
      "            colsample_bytree=1,\n",
      "            eta=0.1,\n",
      "            gamma=0,\n",
      "            max_depth=6,\n",
      "            max_leaves=0,\n",
      "            n_estimators=200,\n",
      "            objective='reg:logistic',\n",
      "            reg_alpha=0.3125,\n",
      "            reg_lambda=1.4583333333333335,\n",
      "            subsample=1,\n",
      "            tree_method='auto'\n",
      "        ))],\n",
      "        verbose=False\n",
      "    )), ('0', Pipeline(\n",
      "        memory=None,\n",
      "        steps=[('maxabsscaler', MaxAbsScaler(\n",
      "            copy=True\n",
      "        )), ('lightgbmclassifier', LightGBMClassifier(\n",
      "            min_data_in_leaf=20,\n",
      "            random_state=None,\n",
      "            n_jobs=1,\n",
      "            problem_info=ProblemInfo(\n",
      "                gpu_training_param_dict={'processing_unit_type': 'cpu'}\n",
      "            )\n",
      "        ))],\n",
      "        verbose=False\n",
      "    )), ('18', Pipeline(\n",
      "        memory=None,\n",
      "        steps=[('standardscalerwrapper', StandardScalerWrapper(\n",
      "            copy=True,\n",
      "            with_mean=False,\n",
      "            with_std=False\n",
      "        )), ('xgboostclassifier', XGBoostClassifier(\n",
      "            random_state=0,\n",
      "            n_jobs=1,\n",
      "            problem_info=ProblemInfo(\n",
      "                gpu_training_param_dict={'processing_unit_type': 'cpu'}\n",
      "            ),\n",
      "            booster='gbtree',\n",
      "            colsample_bytree=0.7,\n",
      "            eta=0.1,\n",
      "            gamma=0.1,\n",
      "            max_depth=9,\n",
      "            max_leaves=511,\n",
      "            n_estimators=25,\n",
      "            objective='reg:logistic',\n",
      "            reg_alpha=0,\n",
      "            reg_lambda=1.7708333333333335,\n",
      "            subsample=0.9,\n",
      "            tree_method='auto'\n",
      "        ))],\n",
      "        verbose=False\n",
      "    )), ('21', Pipeline(\n",
      "        memory=None,\n",
      "        steps=[('standardscalerwrapper', StandardScalerWrapper(\n",
      "            copy=True,\n",
      "            with_mean=False,\n",
      "            with_std=False\n",
      "        )), ('xgboostclassifier', XGBoostClassifier(\n",
      "            random_state=0,\n",
      "            n_jobs=1,\n",
      "            problem_info=ProblemInfo(\n",
      "                gpu_training_param_dict={'processing_unit_type': 'cpu'}\n",
      "            ),\n",
      "            booster='gbtree',\n",
      "            colsample_bytree=0.5,\n",
      "            eta=0.2,\n",
      "            gamma=0,\n",
      "            max_depth=7,\n",
      "            max_leaves=7,\n",
      "            n_estimators=25,\n",
      "            objective='reg:logistic',\n",
      "            reg_alpha=0,\n",
      "            reg_lambda=0.20833333333333334,\n",
      "            subsample=1,\n",
      "            tree_method='auto'\n",
      "        ))],\n",
      "        verbose=False\n",
      "    )), ('2', Pipeline(\n",
      "        memory=None,\n",
      "        steps=[('maxabsscaler', MaxAbsScaler(\n",
      "            copy=True\n",
      "        )), ('extratreesclassifier', ExtraTreesClassifier(\n",
      "            bootstrap=True,\n",
      "            ccp_alpha=0.0,\n",
      "            class_weight='balanced',\n",
      "            criterion='gini',\n",
      "            max_depth=None,\n",
      "            max_features='sqrt',\n",
      "            max_leaf_nodes=None,\n",
      "            max_samples=None,\n",
      "            min_impurity_decrease=0.0,\n",
      "            min_impurity_split=None,\n",
      "            min_samples_leaf=0.01,\n",
      "            min_samples_split=0.15052631578947367,\n",
      "            min_weight_fraction_leaf=0.0,\n",
      "            n_estimators=100,\n",
      "            n_jobs=1,\n",
      "            oob_score=True,\n",
      "            random_state=None,\n",
      "            verbose=0,\n",
      "            warm_start=False\n",
      "        ))],\n",
      "        verbose=False\n",
      "    )), ('39', Pipeline(\n",
      "        memory=None,\n",
      "        steps=[('sparsenormalizer', Normalizer(\n",
      "            copy=True,\n",
      "            norm='l2'\n",
      "        )), ('lightgbmclassifier', LightGBMClassifier(\n",
      "            boosting_type='gbdt',\n",
      "            colsample_bytree=0.8911111111111111,\n",
      "            learning_rate=0.03158578947368421,\n",
      "            max_bin=70,\n",
      "            max_depth=6,\n",
      "            min_child_weight=8,\n",
      "            min_data_in_leaf=0.024145517241379314,\n",
      "            min_split_gain=1,\n",
      "            n_estimators=200,\n",
      "            num_leaves=113,\n",
      "            reg_alpha=0.42105263157894735,\n",
      "            reg_lambda=0.5263157894736842,\n",
      "            subsample=0.19842105263157894,\n",
      "            random_state=None,\n",
      "            n_jobs=1,\n",
      "            problem_info=ProblemInfo(\n",
      "                gpu_training_param_dict={'processing_unit_type': 'cpu'}\n",
      "            )\n",
      "        ))],\n",
      "        verbose=False\n",
      "    )), ('22', Pipeline(\n",
      "        memory=None,\n",
      "        steps=[('sparsenormalizer', Normalizer(\n",
      "            copy=True,\n",
      "            norm='l1'\n",
      "        )), ('xgboostclassifier', XGBoostClassifier(\n",
      "            random_state=0,\n",
      "            n_jobs=1,\n",
      "            problem_info=ProblemInfo(\n",
      "                gpu_training_param_dict={'processing_unit_type': 'cpu'}\n",
      "            ),\n",
      "            booster='gbtree',\n",
      "            colsample_bylevel=1,\n",
      "            colsample_bytree=1,\n",
      "            eta=0.2,\n",
      "            gamma=0,\n",
      "            max_depth=10,\n",
      "            max_leaves=0,\n",
      "            n_estimators=10,\n",
      "            objective='reg:logistic',\n",
      "            reg_alpha=1.3541666666666667,\n",
      "            reg_lambda=1.4583333333333335,\n",
      "            subsample=1,\n",
      "            tree_method='auto'\n",
      "        ))],\n",
      "        verbose=False\n",
      "    )), ('32', Pipeline(\n",
      "        memory=None,\n",
      "        steps=[('sparsenormalizer', Normalizer(\n",
      "            copy=True,\n",
      "            norm='l1'\n",
      "        )), ('xgboostclassifier', XGBoostClassifier(\n",
      "            random_state=0,\n",
      "            n_jobs=1,\n",
      "            problem_info=ProblemInfo(\n",
      "                gpu_training_param_dict={'processing_unit_type': 'cpu'}\n",
      "            ),\n",
      "            booster='gbtree',\n",
      "            colsample_bytree=0.6,\n",
      "            eta=0.3,\n",
      "            gamma=0,\n",
      "            grow_policy='lossguide',\n",
      "            max_bin=255,\n",
      "            max_depth=6,\n",
      "            max_leaves=0,\n",
      "            n_estimators=25,\n",
      "            objective='reg:logistic',\n",
      "            reg_alpha=1.7708333333333335,\n",
      "            reg_lambda=1.25,\n",
      "            subsample=0.8,\n",
      "            tree_method='hist'\n",
      "        ))],\n",
      "        verbose=False\n",
      "    ))],\n",
      "    weights=[0.23076923076923078, 0.15384615384615385, 0.15384615384615385, 0.07692307692307693, 0.07692307692307693, 0.07692307692307693, 0.07692307692307693, 0.07692307692307693, 0.07692307692307693],\n",
      "    flatten_transform=None,\n",
      "    classification_labels=array([1, 0])\n",
      "))\n",
      "************************************************************************************************************\n",
      "AutoML best run accuracy:  {'accuracy': 0.7700252286345002}\n",
      "************************************************************************************************************\n",
      "AutoML run Summary:  [['Failed', 4, nan], ['LightGBM', 10, 0.7526805424156419], ['XGBoostClassifier', 21, 0.7630873541469568], ['ExtremeRandomTrees', 4, 0.6735257016713971], ['LogisticRegression', 4, 0.6867707347839799], ['SGD', 1, 0.6627246925260171], ['RandomForest', 7, 0.7078997161778618], ['VotingEnsemble', 1, 0.7700252286345002], ['StackEnsemble', 1, 0.7684484389782403]]\n"
     ]
    }
   ],
   "source": [
    "# Retrieve and save your best automl model.\n",
    "automl_best_run, automl_fitted_model = remote_run.get_output()\n",
    "\n",
    "\n",
    "# Reference: https://knowledge.udacity.com/questions/357775 \n",
    "print(\"Fitted model: \", automl_fitted_model.steps[-1])\n",
    "print(\"****\"*27)\n",
    "print(\"AutoML best run accuracy: \", automl_best_run.get_metrics(name=\"accuracy\"))\n",
    "print(\"****\"*27)\n",
    "print(\"AutoML run Summary: \", remote_run.summary())"
   ]
  },
  {
   "cell_type": "code",
   "execution_count": 13,
   "metadata": {
    "gather": {
     "logged": 1636287318819
    },
    "jupyter": {
     "outputs_hidden": false,
     "source_hidden": false
    },
    "nteract": {
     "transient": {
      "deleting": false
     }
    }
   },
   "outputs": [
    {
     "data": {
      "text/html": [
       "<table style=\"width:100%\"><tr><th>Experiment</th><th>Id</th><th>Type</th><th>Status</th><th>Details Page</th><th>Docs Page</th></tr><tr><td>coupon-reco-automl</td><td>AutoML_e21e1292-fbc5-4445-8213-bd4c24dd2fdf_47</td><td>azureml.scriptrun</td><td>Completed</td><td><a href=\"https://ml.azure.com/runs/AutoML_e21e1292-fbc5-4445-8213-bd4c24dd2fdf_47?wsid=/subscriptions/9a7511b8-150f-4a58-8528-3e7d50216c31/resourcegroups/aml-quickstarts-162940/workspaces/quick-starts-ws-162940&amp;tid=660b3398-b80e-49d2-bc5b-ac1dc93b5254\" target=\"_blank\" rel=\"noopener\">Link to Azure Machine Learning studio</a></td><td><a href=\"https://docs.microsoft.com/en-us/python/api/azureml-core/azureml.core.run.Run?view=azure-ml-py\" target=\"_blank\" rel=\"noopener\">Link to Documentation</a></td></tr></table>"
      ],
      "text/plain": [
       "Run(Experiment: coupon-reco-automl,\n",
       "Id: AutoML_e21e1292-fbc5-4445-8213-bd4c24dd2fdf_47,\n",
       "Type: azureml.scriptrun,\n",
       "Status: Completed)"
      ]
     },
     "execution_count": 13,
     "metadata": {},
     "output_type": "execute_result"
    }
   ],
   "source": [
    "automl_best_run"
   ]
  },
  {
   "cell_type": "code",
   "execution_count": 16,
   "metadata": {
    "gather": {
     "logged": 1636287816260
    },
    "jupyter": {
     "outputs_hidden": false,
     "source_hidden": false
    },
    "nteract": {
     "transient": {
      "deleting": false
     }
    }
   },
   "outputs": [
    {
     "name": "stderr",
     "output_type": "stream",
     "text": [
      "WARNING:root:The version of the SDK does not match the version the model was trained on.\n",
      "WARNING:root:The consistency in the result may not be guaranteed.\n",
      "WARNING:root:Package:azureml-automl-core, training version:1.35.1, current version:1.34.0\n",
      "Package:azureml-automl-runtime, training version:1.35.1, current version:1.34.0\n",
      "Package:azureml-core, training version:1.35.0.post1, current version:1.34.0\n",
      "Package:azureml-dataprep, training version:2.23.2, current version:2.22.2\n",
      "Package:azureml-dataprep-rslex, training version:1.21.2, current version:1.20.1\n",
      "Package:azureml-dataset-runtime, training version:1.35.0, current version:1.34.0\n",
      "Package:azureml-defaults, training version:1.35.0, current version:1.34.0\n",
      "Package:azureml-interpret, training version:1.35.0, current version:1.34.0\n",
      "Package:azureml-mlflow, training version:1.35.0, current version:1.34.0\n",
      "Package:azureml-pipeline-core, training version:1.35.0, current version:1.34.0\n",
      "Package:azureml-responsibleai, training version:1.35.0, current version:1.34.0\n",
      "Package:azureml-telemetry, training version:1.35.0, current version:1.34.0\n",
      "Package:azureml-train-automl-client, training version:1.35.0, current version:1.34.0\n",
      "Package:azureml-train-automl-runtime, training version:1.35.1, current version:1.34.0\n",
      "Package:azureml-train-core, training version:1.35.0, current version:1.34.0\n",
      "Package:azureml-train-restclients-hyperdrive, training version:1.35.0, current version:1.34.0\n",
      "WARNING:root:Please ensure the version of your local conda dependencies match the version on which your model was trained in order to properly retrieve your model.\n"
     ]
    }
   ],
   "source": [
    "#TODO: Save the best model\n",
    "best_model, model = remote_run.get_output()\n",
    "model = best_model.register_model(model_name='automl-best-model',model_path='outputs/model.pkl')"
   ]
  },
  {
   "cell_type": "markdown",
   "metadata": {},
   "source": [
    "## Model Deployment\n",
    "\n",
    "Remember you have to deploy only one of the two models you trained but you still need to register both the models. Perform the steps in the rest of this notebook only if you wish to deploy this model.\n",
    "\n",
    "TODO: In the cell below, register the model, create an inference config and deploy the model as a web service."
   ]
  },
  {
   "cell_type": "code",
   "execution_count": null,
   "metadata": {
    "gather": {
     "logged": 1598431435189
    },
    "jupyter": {
     "outputs_hidden": false,
     "source_hidden": false
    },
    "nteract": {
     "transient": {
      "deleting": false
     }
    }
   },
   "outputs": [],
   "source": [
    "from azureml.automl.core.shared import constants\n",
    "from azureml.core.model import InferenceConfig, Model\n",
    "from azureml.core.environment import Environment\n",
    "from azureml.core.webservice import AciWebservice, Webservice\n",
    "\n",
    "# Register the model to deploy\n",
    "# model = automl_best_run.register_model(model_name = \"mymodel\", model_path = \"outputs/model.pkl\")\n",
    "automl_best_run.download_file(constants.CONDA_ENV_FILE_PATH, 'condaEnv.yml')\n",
    "\n",
    "env = Environment.from_conda_specification('condaEnv', 'condaEnv.yml')\n",
    "inference_config = InferenceConfig(entry_script='score.py', environment=env)\n",
    "\n",
    "aci_config = AciWebservice.deploy_configuration(cpu_cores=1, memory_gb=1, auth_enabled=True,tags = {'name':'Action Prediction'},description='In-vehicle Coupon Recommendation')\n",
    "service = model.deploy(workspace=ws,name=\"in-vehicle-coupon-reco-automl-deploy\",models=[model],inference_config=inference_config,deployment_config=aci_config)\n",
    "\n",
    "service.wait_for_deployment(show_output=True)"
   ]
  },
  {
   "cell_type": "code",
   "execution_count": null,
   "metadata": {},
   "outputs": [],
   "source": [
    "print(service.get_logs())"
   ]
  },
  {
   "cell_type": "code",
   "execution_count": null,
   "metadata": {},
   "outputs": [],
   "source": [
    "service.update(enable_app_insights=True)\n",
    "\n",
    "print(service.state)\n",
    "print(\"scoring URI: \" + service.scoring_uri)"
   ]
  },
  {
   "cell_type": "markdown",
   "metadata": {
    "collapsed": true,
    "gather": {
     "logged": 1598431657736
    },
    "jupyter": {
     "outputs_hidden": false,
     "source_hidden": false
    },
    "nteract": {
     "transient": {
      "deleting": false
     }
    }
   },
   "source": [
    "TODO: In the cell below, send a request to the web service you deployed to test it."
   ]
  },
  {
   "cell_type": "code",
   "execution_count": null,
   "metadata": {
    "gather": {
     "logged": 1598432707604
    },
    "jupyter": {
     "outputs_hidden": false,
     "source_hidden": false
    },
    "nteract": {
     "transient": {
      "deleting": false
     }
    }
   },
   "outputs": [],
   "source": [
    "import json\n",
    "import requests\n",
    "# URL for the web service\n",
    "scoring_uri = 'http://617ba078-e419-496f-b992-a73545385b31.southcentralus.azurecontainer.io/score'\n",
    "# If the service is authenticated, set the key or token\n",
    "key = 'QSezHp5JMibUTuMLORyaLju41EYcjyBA'\n",
    "\n",
    "data = {\n",
    "  \"data\": [\n",
    "    {#ALLOW\n",
    "                  'Source Port': 50148, \n",
    "                  'Destination Port': 80, \n",
    "                  'NAT Source Port': 57004,\n",
    "                  'NAT Destination Port': 80,\n",
    "                  'Bytes': 9058,\n",
    "                  'Bytes Sent': 868,\n",
    "                  'Bytes Received': 8190,\n",
    "                  'Packets': 18,\n",
    "                  'Elapsed Time (sec)': 46,\n",
    "                  'pkts_sent': 10,\n",
    "                  'pkts_received': 8\n",
    "                 \n",
    "                 \n",
    "    },\n",
    "    {#DENY\n",
    "                  'Source Port': 56103, \n",
    "                  'Destination Port': 21247, \n",
    "                  'NAT Source Port': 0,\n",
    "                  'NAT Destination Port': 0,\n",
    "                  'Bytes': 66,\n",
    "                  'Bytes Sent': 66,\n",
    "                  'Bytes Received': 0,\n",
    "                  'Packets': 1,\n",
    "                  'Elapsed Time (sec)': 0,\n",
    "                  'pkts_sent': 1,\n",
    "                  'pkts_received': 0\n",
    "                 \n",
    "                 \n",
    "    },\n",
    "    {#DROP\n",
    "                  'Source Port': 49783, \n",
    "                  'Destination Port': 445, \n",
    "                  'NAT Source Port': 0,\n",
    "                  'NAT Destination Port': 0,\n",
    "                  'Bytes': 70,\n",
    "                  'Bytes Sent': 70,\n",
    "                  'Bytes Received': 0,\n",
    "                  'Packets': 1,\n",
    "                  'Elapsed Time (sec)': 0,\n",
    "                  'pkts_sent': 1,\n",
    "                  'pkts_received': 0\n",
    "                 \n",
    "                 \n",
    "    }\n",
    " ]\n",
    "}\n",
    "# Convert to JSON string\n",
    "input_data = json.dumps(data)\n",
    "output = service.run(input_data)\n",
    "#print(f\"Predicted: {output}\\nExpected: {y}\")\n",
    "\n",
    "headers = {'Content-Type': 'application/json'}\n",
    "headers['Authorization'] = f'Bearer {key}'\n",
    "\n",
    "# Make the request and display the response\n",
    "resp = requests.post(scoring_uri, input_data, headers=headers)\n",
    "print(\"prediction \", resp.text)"
   ]
  },
  {
   "cell_type": "markdown",
   "metadata": {
    "collapsed": true,
    "gather": {
     "logged": 1598432765711
    },
    "jupyter": {
     "outputs_hidden": false,
     "source_hidden": false
    },
    "nteract": {
     "transient": {
      "deleting": false
     }
    }
   },
   "source": [
    "TODO: In the cell below, print the logs of the web service and delete the service"
   ]
  },
  {
   "cell_type": "code",
   "execution_count": null,
   "metadata": {
    "jupyter": {
     "outputs_hidden": false,
     "source_hidden": false
    },
    "nteract": {
     "transient": {
      "deleting": false
     }
    }
   },
   "outputs": [],
   "source": [
    "#print the logs of the web service\n",
    "web_service_logs = service.get_logs()\n",
    "with open(\"./web_service_logs.txt\", 'w') as output:\n",
    "    output.write(str(web_service_logs))\n",
    "\n",
    "print(web_service_logs)\n"
   ]
  },
  {
   "cell_type": "code",
   "execution_count": null,
   "metadata": {},
   "outputs": [],
   "source": [
    "#Deleting Service\n",
    "service.delete()\n",
    "compute_target.delete()\n",
    "compute_target.wait_for_completion(show_output=True, is_delete_operation=True)"
   ]
  },
  {
   "cell_type": "markdown",
   "metadata": {},
   "source": [
    "**Submission Checklist**\n",
    "- I have registered the model.\n",
    "- I have deployed the model with the best accuracy as a webservice.\n",
    "- I have tested the webservice by sending a request to the model endpoint.\n",
    "- I have deleted the webservice and shutdown all the computes that I have used.\n",
    "- I have taken a screenshot showing the model endpoint as active.\n",
    "- The project includes a file containing the environment details.\n"
   ]
  },
  {
   "cell_type": "markdown",
   "metadata": {},
   "source": []
  }
 ],
 "metadata": {
  "kernel_info": {
   "name": "python3"
  },
  "kernelspec": {
   "display_name": "Python 3",
   "language": "python",
   "name": "python3"
  },
  "language_info": {
   "codemirror_mode": {
    "name": "ipython",
    "version": 3
   },
   "file_extension": ".py",
   "mimetype": "text/x-python",
   "name": "python",
   "nbconvert_exporter": "python",
   "pygments_lexer": "ipython3",
   "version": "3.7.4"
  },
  "microsoft": {
   "host": {
    "AzureML": {
     "notebookHasBeenCompleted": true
    }
   }
  },
  "nteract": {
   "version": "nteract-front-end@1.0.0"
  }
 },
 "nbformat": 4,
 "nbformat_minor": 2
}
